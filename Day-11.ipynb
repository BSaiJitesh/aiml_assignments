{
 "cells": [
  {
   "cell_type": "code",
   "execution_count": null,
   "id": "f985751e-e9c8-4da9-bb8e-9f2de2b8404d",
   "metadata": {},
   "outputs": [],
   "source": []
  }
 ],
 "metadata": {
  "kernelspec": {
   "display_name": "",
   "name": ""
  },
  "language_info": {
   "name": ""
  }
 },
 "nbformat": 4,
 "nbformat_minor": 5
}
