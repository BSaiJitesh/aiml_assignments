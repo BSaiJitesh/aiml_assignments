{
 "cells": [
  {
   "cell_type": "code",
   "execution_count": 7,
   "id": "838fa94d-084f-4ea2-92bf-6dd9b05ea153",
   "metadata": {},
   "outputs": [
    {
     "name": "stdout",
     "output_type": "stream",
     "text": [
      "Good morning Soumya !\n"
     ]
    }
   ],
   "source": [
    "#greetings\n",
    "greet = lambda name: print(f\"Good morning {name} !\")\n",
    "greet(\"Soumya\")"
   ]
  },
  {
   "cell_type": "code",
   "execution_count": 9,
   "id": "774a50db-d2d5-4aee-b167-f96058423324",
   "metadata": {},
   "outputs": [
    {
     "data": {
      "text/plain": [
       "24"
      ]
     },
     "execution_count": 9,
     "metadata": {},
     "output_type": "execute_result"
    }
   ],
   "source": [
    "#procuct of numbers\n",
    "product = lambda a,b,c : a * b * c\n",
    "product(2,3,4)"
   ]
  },
  {
   "cell_type": "code",
   "execution_count": 5,
   "id": "deb80268-2f77-4440-b45d-884b3b51faac",
   "metadata": {},
   "outputs": [
    {
     "data": {
      "text/plain": [
       "[12, 14, 16]"
      ]
     },
     "execution_count": 5,
     "metadata": {},
     "output_type": "execute_result"
    }
   ],
   "source": [
    "#finding even numbers\n",
    "even = lambda L:[x for x in L if x%2 ==0]\n",
    "my_list =[12,13,14,15,16]\n",
    "even(my_list)"
   ]
  },
  {
   "cell_type": "code",
   "execution_count": null,
   "id": "8d923276-76d1-417d-9c28-2dc58b38a5be",
   "metadata": {},
   "outputs": [],
   "source": []
  }
 ],
 "metadata": {
  "kernelspec": {
   "display_name": "Python [conda env:base] *",
   "language": "python",
   "name": "conda-base-py"
  },
  "language_info": {
   "codemirror_mode": {
    "name": "ipython",
    "version": 3
   },
   "file_extension": ".py",
   "mimetype": "text/x-python",
   "name": "python",
   "nbconvert_exporter": "python",
   "pygments_lexer": "ipython3",
   "version": "3.12.7"
  }
 },
 "nbformat": 4,
 "nbformat_minor": 5
}
