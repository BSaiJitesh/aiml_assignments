{
 "cells": [
  {
   "cell_type": "code",
   "execution_count": 1,
   "id": "fd9a5178-8c66-45ab-846a-28a6a2f3734c",
   "metadata": {},
   "outputs": [],
   "source": [
    "import pandas as pd\n",
    "import numpy as np"
   ]
  },
  {
   "cell_type": "code",
   "execution_count": 2,
   "id": "eeace86e-a1ac-4781-8e09-d83b147ade9b",
   "metadata": {},
   "outputs": [
    {
     "data": {
      "text/html": [
       "<div>\n",
       "<style scoped>\n",
       "    .dataframe tbody tr th:only-of-type {\n",
       "        vertical-align: middle;\n",
       "    }\n",
       "\n",
       "    .dataframe tbody tr th {\n",
       "        vertical-align: top;\n",
       "    }\n",
       "\n",
       "    .dataframe thead th {\n",
       "        text-align: right;\n",
       "    }\n",
       "</style>\n",
       "<table border=\"1\" class=\"dataframe\">\n",
       "  <thead>\n",
       "    <tr style=\"text-align: right;\">\n",
       "      <th></th>\n",
       "      <th>Univ</th>\n",
       "      <th>SAT</th>\n",
       "      <th>Top10</th>\n",
       "      <th>Accept</th>\n",
       "      <th>SFRatio</th>\n",
       "      <th>Expenses</th>\n",
       "      <th>GradRate</th>\n",
       "    </tr>\n",
       "  </thead>\n",
       "  <tbody>\n",
       "    <tr>\n",
       "      <th>0</th>\n",
       "      <td>Brown</td>\n",
       "      <td>1310</td>\n",
       "      <td>89</td>\n",
       "      <td>22</td>\n",
       "      <td>13</td>\n",
       "      <td>22704</td>\n",
       "      <td>94</td>\n",
       "    </tr>\n",
       "    <tr>\n",
       "      <th>1</th>\n",
       "      <td>CalTech</td>\n",
       "      <td>1415</td>\n",
       "      <td>100</td>\n",
       "      <td>25</td>\n",
       "      <td>6</td>\n",
       "      <td>63575</td>\n",
       "      <td>81</td>\n",
       "    </tr>\n",
       "    <tr>\n",
       "      <th>2</th>\n",
       "      <td>CMU</td>\n",
       "      <td>1260</td>\n",
       "      <td>62</td>\n",
       "      <td>59</td>\n",
       "      <td>9</td>\n",
       "      <td>25026</td>\n",
       "      <td>72</td>\n",
       "    </tr>\n",
       "    <tr>\n",
       "      <th>3</th>\n",
       "      <td>Columbia</td>\n",
       "      <td>1310</td>\n",
       "      <td>76</td>\n",
       "      <td>24</td>\n",
       "      <td>12</td>\n",
       "      <td>31510</td>\n",
       "      <td>88</td>\n",
       "    </tr>\n",
       "    <tr>\n",
       "      <th>4</th>\n",
       "      <td>Cornell</td>\n",
       "      <td>1280</td>\n",
       "      <td>83</td>\n",
       "      <td>33</td>\n",
       "      <td>13</td>\n",
       "      <td>21864</td>\n",
       "      <td>90</td>\n",
       "    </tr>\n",
       "    <tr>\n",
       "      <th>5</th>\n",
       "      <td>Dartmouth</td>\n",
       "      <td>1340</td>\n",
       "      <td>89</td>\n",
       "      <td>23</td>\n",
       "      <td>10</td>\n",
       "      <td>32162</td>\n",
       "      <td>95</td>\n",
       "    </tr>\n",
       "    <tr>\n",
       "      <th>6</th>\n",
       "      <td>Duke</td>\n",
       "      <td>1315</td>\n",
       "      <td>90</td>\n",
       "      <td>30</td>\n",
       "      <td>12</td>\n",
       "      <td>31585</td>\n",
       "      <td>95</td>\n",
       "    </tr>\n",
       "    <tr>\n",
       "      <th>7</th>\n",
       "      <td>Georgetown</td>\n",
       "      <td>1255</td>\n",
       "      <td>74</td>\n",
       "      <td>24</td>\n",
       "      <td>12</td>\n",
       "      <td>20126</td>\n",
       "      <td>92</td>\n",
       "    </tr>\n",
       "    <tr>\n",
       "      <th>8</th>\n",
       "      <td>Harvard</td>\n",
       "      <td>1400</td>\n",
       "      <td>91</td>\n",
       "      <td>14</td>\n",
       "      <td>11</td>\n",
       "      <td>39525</td>\n",
       "      <td>97</td>\n",
       "    </tr>\n",
       "    <tr>\n",
       "      <th>9</th>\n",
       "      <td>JohnsHopkins</td>\n",
       "      <td>1305</td>\n",
       "      <td>75</td>\n",
       "      <td>44</td>\n",
       "      <td>7</td>\n",
       "      <td>58691</td>\n",
       "      <td>87</td>\n",
       "    </tr>\n",
       "    <tr>\n",
       "      <th>10</th>\n",
       "      <td>MIT</td>\n",
       "      <td>1380</td>\n",
       "      <td>94</td>\n",
       "      <td>30</td>\n",
       "      <td>10</td>\n",
       "      <td>34870</td>\n",
       "      <td>91</td>\n",
       "    </tr>\n",
       "    <tr>\n",
       "      <th>11</th>\n",
       "      <td>Northwestern</td>\n",
       "      <td>1260</td>\n",
       "      <td>85</td>\n",
       "      <td>39</td>\n",
       "      <td>11</td>\n",
       "      <td>28052</td>\n",
       "      <td>89</td>\n",
       "    </tr>\n",
       "    <tr>\n",
       "      <th>12</th>\n",
       "      <td>NotreDame</td>\n",
       "      <td>1255</td>\n",
       "      <td>81</td>\n",
       "      <td>42</td>\n",
       "      <td>13</td>\n",
       "      <td>15122</td>\n",
       "      <td>94</td>\n",
       "    </tr>\n",
       "    <tr>\n",
       "      <th>13</th>\n",
       "      <td>PennState</td>\n",
       "      <td>1081</td>\n",
       "      <td>38</td>\n",
       "      <td>54</td>\n",
       "      <td>18</td>\n",
       "      <td>10185</td>\n",
       "      <td>80</td>\n",
       "    </tr>\n",
       "    <tr>\n",
       "      <th>14</th>\n",
       "      <td>Princeton</td>\n",
       "      <td>1375</td>\n",
       "      <td>91</td>\n",
       "      <td>14</td>\n",
       "      <td>8</td>\n",
       "      <td>30220</td>\n",
       "      <td>95</td>\n",
       "    </tr>\n",
       "    <tr>\n",
       "      <th>15</th>\n",
       "      <td>Purdue</td>\n",
       "      <td>1005</td>\n",
       "      <td>28</td>\n",
       "      <td>90</td>\n",
       "      <td>19</td>\n",
       "      <td>9066</td>\n",
       "      <td>69</td>\n",
       "    </tr>\n",
       "    <tr>\n",
       "      <th>16</th>\n",
       "      <td>Stanford</td>\n",
       "      <td>1360</td>\n",
       "      <td>90</td>\n",
       "      <td>20</td>\n",
       "      <td>12</td>\n",
       "      <td>36450</td>\n",
       "      <td>93</td>\n",
       "    </tr>\n",
       "    <tr>\n",
       "      <th>17</th>\n",
       "      <td>TexasA&amp;M</td>\n",
       "      <td>1075</td>\n",
       "      <td>49</td>\n",
       "      <td>67</td>\n",
       "      <td>25</td>\n",
       "      <td>8704</td>\n",
       "      <td>67</td>\n",
       "    </tr>\n",
       "    <tr>\n",
       "      <th>18</th>\n",
       "      <td>UCBerkeley</td>\n",
       "      <td>1240</td>\n",
       "      <td>95</td>\n",
       "      <td>40</td>\n",
       "      <td>17</td>\n",
       "      <td>15140</td>\n",
       "      <td>78</td>\n",
       "    </tr>\n",
       "    <tr>\n",
       "      <th>19</th>\n",
       "      <td>UChicago</td>\n",
       "      <td>1290</td>\n",
       "      <td>75</td>\n",
       "      <td>50</td>\n",
       "      <td>13</td>\n",
       "      <td>38380</td>\n",
       "      <td>87</td>\n",
       "    </tr>\n",
       "    <tr>\n",
       "      <th>20</th>\n",
       "      <td>UMichigan</td>\n",
       "      <td>1180</td>\n",
       "      <td>65</td>\n",
       "      <td>68</td>\n",
       "      <td>16</td>\n",
       "      <td>15470</td>\n",
       "      <td>85</td>\n",
       "    </tr>\n",
       "    <tr>\n",
       "      <th>21</th>\n",
       "      <td>UPenn</td>\n",
       "      <td>1285</td>\n",
       "      <td>80</td>\n",
       "      <td>36</td>\n",
       "      <td>11</td>\n",
       "      <td>27553</td>\n",
       "      <td>90</td>\n",
       "    </tr>\n",
       "    <tr>\n",
       "      <th>22</th>\n",
       "      <td>UVA</td>\n",
       "      <td>1225</td>\n",
       "      <td>77</td>\n",
       "      <td>44</td>\n",
       "      <td>14</td>\n",
       "      <td>13349</td>\n",
       "      <td>92</td>\n",
       "    </tr>\n",
       "    <tr>\n",
       "      <th>23</th>\n",
       "      <td>UWisconsin</td>\n",
       "      <td>1085</td>\n",
       "      <td>40</td>\n",
       "      <td>69</td>\n",
       "      <td>15</td>\n",
       "      <td>11857</td>\n",
       "      <td>71</td>\n",
       "    </tr>\n",
       "    <tr>\n",
       "      <th>24</th>\n",
       "      <td>Yale</td>\n",
       "      <td>1375</td>\n",
       "      <td>95</td>\n",
       "      <td>19</td>\n",
       "      <td>11</td>\n",
       "      <td>43514</td>\n",
       "      <td>96</td>\n",
       "    </tr>\n",
       "  </tbody>\n",
       "</table>\n",
       "</div>"
      ],
      "text/plain": [
       "            Univ   SAT  Top10  Accept  SFRatio  Expenses  GradRate\n",
       "0          Brown  1310     89      22       13     22704        94\n",
       "1        CalTech  1415    100      25        6     63575        81\n",
       "2            CMU  1260     62      59        9     25026        72\n",
       "3       Columbia  1310     76      24       12     31510        88\n",
       "4        Cornell  1280     83      33       13     21864        90\n",
       "5      Dartmouth  1340     89      23       10     32162        95\n",
       "6           Duke  1315     90      30       12     31585        95\n",
       "7     Georgetown  1255     74      24       12     20126        92\n",
       "8        Harvard  1400     91      14       11     39525        97\n",
       "9   JohnsHopkins  1305     75      44        7     58691        87\n",
       "10           MIT  1380     94      30       10     34870        91\n",
       "11  Northwestern  1260     85      39       11     28052        89\n",
       "12     NotreDame  1255     81      42       13     15122        94\n",
       "13     PennState  1081     38      54       18     10185        80\n",
       "14     Princeton  1375     91      14        8     30220        95\n",
       "15        Purdue  1005     28      90       19      9066        69\n",
       "16      Stanford  1360     90      20       12     36450        93\n",
       "17      TexasA&M  1075     49      67       25      8704        67\n",
       "18    UCBerkeley  1240     95      40       17     15140        78\n",
       "19      UChicago  1290     75      50       13     38380        87\n",
       "20     UMichigan  1180     65      68       16     15470        85\n",
       "21         UPenn  1285     80      36       11     27553        90\n",
       "22           UVA  1225     77      44       14     13349        92\n",
       "23    UWisconsin  1085     40      69       15     11857        71\n",
       "24          Yale  1375     95      19       11     43514        96"
      ]
     },
     "execution_count": 2,
     "metadata": {},
     "output_type": "execute_result"
    }
   ],
   "source": [
    "df = pd.read_csv(\"universities.csv\")\n",
    "df"
   ]
  },
  {
   "cell_type": "code",
   "execution_count": 3,
   "id": "1a8deae5-9b1a-4351-badd-5902996b9eb5",
   "metadata": {},
   "outputs": [
    {
     "data": {
      "text/plain": [
       "1266.44"
      ]
     },
     "execution_count": 3,
     "metadata": {},
     "output_type": "execute_result"
    }
   ],
   "source": [
    "#to find mean \n",
    "np.mean(df[\"SAT\"])"
   ]
  },
  {
   "cell_type": "code",
   "execution_count": 4,
   "id": "88a25bfe-6b93-44e6-a1cb-57e064ed89d5",
   "metadata": {},
   "outputs": [
    {
     "data": {
      "text/plain": [
       "1285.0"
      ]
     },
     "execution_count": 4,
     "metadata": {},
     "output_type": "execute_result"
    }
   ],
   "source": [
    "#to find median\n",
    "np.median(df[\"SAT\"])"
   ]
  },
  {
   "cell_type": "code",
   "execution_count": 5,
   "id": "3688b485-9c80-4a77-acd3-205371d849d8",
   "metadata": {},
   "outputs": [
    {
     "data": {
      "text/plain": [
       "8.874773236539623"
      ]
     },
     "execution_count": 5,
     "metadata": {},
     "output_type": "execute_result"
    }
   ],
   "source": [
    "# to find Standard Deviation \n",
    "np.std(df[\"SAT\"])\n",
    "np.std(df[\"GradRate\"])"
   ]
  },
  {
   "cell_type": "code",
   "execution_count": 6,
   "id": "d63deb4d-a712-450c-95b4-110bac961ec0",
   "metadata": {},
   "outputs": [
    {
     "data": {
      "text/plain": [
       "11272.166400000002"
      ]
     },
     "execution_count": 6,
     "metadata": {},
     "output_type": "execute_result"
    }
   ],
   "source": [
    "#to find variance\n",
    "np.var(df[\"SAT\"])"
   ]
  },
  {
   "cell_type": "code",
   "execution_count": 13,
   "id": "a372adc6-6036-4ab0-83dd-22b78a1fb5c7",
   "metadata": {},
   "outputs": [],
   "source": [
    "#Visualize the GradRate using histogram\n",
    "import matplotlib.pyplot as plt\n",
    "import seaborn as sns"
   ]
  },
  {
   "cell_type": "code",
   "execution_count": 14,
   "id": "54697c36-1b0f-4c1e-a6b6-ee4b76d4a9cb",
   "metadata": {},
   "outputs": [
    {
     "data": {
      "text/plain": [
       "(array([4., 5., 4., 5., 1., 2., 1., 2., 0., 1.]),\n",
       " array([14. , 21.6, 29.2, 36.8, 44.4, 52. , 59.6, 67.2, 74.8, 82.4, 90. ]),\n",
       " <BarContainer object of 10 artists>)"
      ]
     },
     "execution_count": 14,
     "metadata": {},
     "output_type": "execute_result"
    },
    {
     "data": {
      "image/png": "[encoded data removed]",
      "text/plain": [
       "<Figure size 600x300 with 1 Axes>"
      ]
     },
     "metadata": {},
     "output_type": "display_data"
    }
   ],
   "source": [
    "plt.figure(figsize=(6,3))\n",
    "plt.title(\"Acceptance Ratio\")\n",
    "plt.hist(df[\"Accept\"])"
   ]
  },
  {
   "cell_type": "code",
   "execution_count": 16,
   "id": "65f0e015-fe40-4246-ade8-f0a0fa15b068",
   "metadata": {},
   "outputs": [
    {
     "data": {
      "text/plain": [
       "<Axes: xlabel='Accept', ylabel='Count'>"
      ]
     },
     "execution_count": 16,
     "metadata": {},
     "output_type": "execute_result"
    },
    {
     "data": {
      "image/png": "[encoded data removed]",
      "text/plain": [
       "<Figure size 640x480 with 1 Axes>"
      ]
     },
     "metadata": {},
     "output_type": "display_data"
    }
   ],
   "source": [
    "sns.histplot(df[\"Accept\"],kde=True)"
   ]
  },
  {
   "cell_type": "code",
   "execution_count": 54,
   "id": "baa6d838-17d7-4441-8bf6-c45cf0160cb2",
   "metadata": {},
   "outputs": [
    {
     "data": {
      "text/plain": [
       "<Axes: xlabel='Accept', ylabel='Count'>"
      ]
     },
     "execution_count": 54,
     "metadata": {},
     "output_type": "execute_result"
    },
    {
     "data": {
      "image/png": "[encoded data removed]",
      "text/plain": [
       "<Figure size 640x480 with 1 Axes>"
      ]
     },
     "metadata": {},
     "output_type": "display_data"
    }
   ],
   "source": [
    "sns.histplot(df[\"Accept\"],kde=False)"
   ]
  },
  {
   "cell_type": "code",
   "execution_count": 25,
   "id": "c04d22f0-34f7-41f6-b177-a844f6427244",
   "metadata": {},
   "outputs": [
    {
     "data": {
      "text/plain": [
       "0    20\n",
       "1    15\n",
       "2    10\n",
       "3    25\n",
       "4    30\n",
       "5    35\n",
       "6    28\n",
       "7    40\n",
       "8    45\n",
       "9    60\n",
       "dtype: int64"
      ]
     },
     "execution_count": 25,
     "metadata": {},
     "output_type": "execute_result"
    }
   ],
   "source": [
    "s1=[20,15,10,25,30,35,28,40,45,60]\n",
    "scores1=pd.Series(s1)\n",
    "scores1"
   ]
  },
  {
   "cell_type": "code",
   "execution_count": 43,
   "id": "3dc3ceee-da19-4122-8830-b0ee468e193c",
   "metadata": {},
   "outputs": [
    {
     "data": {
      "text/plain": [
       "{'whiskers': [<matplotlib.lines.Line2D at 0x1a80dc5d010>,\n",
       "  <matplotlib.lines.Line2D at 0x1a80dc5df70>],\n",
       " 'caps': [<matplotlib.lines.Line2D at 0x1a80dc5c3e0>,\n",
       "  <matplotlib.lines.Line2D at 0x1a80cd13350>],\n",
       " 'boxes': [<matplotlib.lines.Line2D at 0x1a80dc5c650>],\n",
       " 'medians': [<matplotlib.lines.Line2D at 0x1a80d936f00>],\n",
       " 'fliers': [<matplotlib.lines.Line2D at 0x1a80d814320>],\n",
       " 'means': []}"
      ]
     },
     "execution_count": 43,
     "metadata": {},
     "output_type": "execute_result"
    },
    {
     "data": {
      "image/png": "[encoded data removed]",
      "text/plain": [
       "<Figure size 600x200 with 1 Axes>"
      ]
     },
     "metadata": {},
     "output_type": "display_data"
    }
   ],
   "source": [
    "plt.figure(figsize=(6,2))\n",
    "plt.title(\"Boxplot for batsman scores\")\n",
    "plt.xlabel(\"Scores\")\n",
    "plt.boxplot(scores1,vert=False)"
   ]
  },
  {
   "cell_type": "code",
   "execution_count": 90,
   "id": "1b01a4d4-56a7-4a6c-83e9-c8d11842f47e",
   "metadata": {},
   "outputs": [
    {
     "data": {
      "text/plain": [
       "{'whiskers': [<matplotlib.lines.Line2D at 0x1a8208bc890>,\n",
       "  <matplotlib.lines.Line2D at 0x1a8208bcb30>],\n",
       " 'caps': [<matplotlib.lines.Line2D at 0x1a8208bccb0>,\n",
       "  <matplotlib.lines.Line2D at 0x1a8208bcf80>],\n",
       " 'boxes': [<matplotlib.lines.Line2D at 0x1a8208bc650>],\n",
       " 'medians': [<matplotlib.lines.Line2D at 0x1a8208bd1f0>],\n",
       " 'fliers': [<matplotlib.lines.Line2D at 0x1a8208bd4c0>],\n",
       " 'means': []}"
      ]
     },
     "execution_count": 90,
     "metadata": {},
     "output_type": "execute_result"
    },
    {
     "data": {
      "image/png": "[encoded data removed]",
      "text/plain": [
       "<Figure size 600x200 with 1 Axes>"
      ]
     },
     "metadata": {},
     "output_type": "display_data"
    }
   ],
   "source": [
    "#Added extreme values to scores and plot the boxplot\n",
    "s2=[20,15,10,25,30,35,28,40,45,60,120,130,150]\n",
    "scores2=pd.Series(s2)\n",
    "scores2\n",
    "plt.figure(figsize=(6,2))\n",
    "plt.title(\"Boxplot for batsman scores\")\n",
    "plt.xlabel(\"Scores\")\n",
    "plt.boxplot(scores2,vert=False)"
   ]
  },
  {
   "cell_type": "code",
   "execution_count": 104,
   "id": "82e270ca-6433-47b9-b2dc-15e306655bb0",
   "metadata": {},
   "outputs": [
    {
     "data": {
      "text/plain": [
       "{'whiskers': [<matplotlib.lines.Line2D at 0x1a821b4d1c0>,\n",
       "  <matplotlib.lines.Line2D at 0x1a821b4d460>],\n",
       " 'caps': [<matplotlib.lines.Line2D at 0x1a821b4d5b0>,\n",
       "  <matplotlib.lines.Line2D at 0x1a821b4d7c0>],\n",
       " 'boxes': [<matplotlib.lines.Line2D at 0x1a821b4cef0>],\n",
       " 'medians': [<matplotlib.lines.Line2D at 0x1a821b4da60>],\n",
       " 'fliers': [<matplotlib.lines.Line2D at 0x1a821b4dd00>],\n",
       " 'means': []}"
      ]
     },
     "execution_count": 104,
     "metadata": {},
     "output_type": "execute_result"
    },
    {
     "data": {
      "image/png": "[encoded data removed]",
      "text/plain": [
       "<Figure size 600x200 with 1 Axes>"
      ]
     },
     "metadata": {},
     "output_type": "display_data"
    }
   ],
   "source": [
    "#Added extreme values to scores and plot the boxplot\n",
    "s2=[2,1,3,4,6,12,42,45,56,73,90,180]\n",
    "scores2=pd.Series(s2)\n",
    "scores2\n",
    "plt.figure(figsize=(6,2))\n",
    "plt.title(\"Boxplot for batsman scores\")\n",
    "plt.xlabel(\"Scores\")\n",
    "plt.boxplot(scores2,vert=False)"
   ]
  },
  {
   "cell_type": "code",
   "execution_count": null,
   "id": "c452ba2d-c080-427b-96e9-7f4ce5df8026",
   "metadata": {},
   "outputs": [],
   "source": []
  }
 ],
 "metadata": {
  "kernelspec": {
   "display_name": "Python [conda env:base] *",
   "language": "python",
   "name": "conda-base-py"
  },
  "language_info": {
   "codemirror_mode": {
    "name": "ipython",
    "version": 3
   },
   "file_extension": ".py",
   "mimetype": "text/x-python",
   "name": "python",
   "nbconvert_exporter": "python",
   "pygments_lexer": "ipython3",
   "version": "3.12.7"
  }
 },
 "nbformat": 4,
 "nbformat_minor": 5
}
