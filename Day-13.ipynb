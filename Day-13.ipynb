{
 "cells": [
  {
   "cell_type": "code",
   "execution_count": null,
   "id": "2ae8f3f4-28be-4647-9dec-43a4007a1e3f",
   "metadata": {},
   "outputs": [],
   "source": [
    "import pandas as pd\n",
    "import matplotlib.pyplot as plt\n",
    "import seaborn as sns\n",
    "\n",
    "# Load dataset\n",
    "data = pd.read_csv(\"Pharma_dtaa.csv\")\n",
    "\n",
    "# Data cleaning\n",
    "data.drop_duplicates(inplace=True)\n",
    "data.dropna(inplace=True)\n",
    "\n",
    "# Bar plot: Total sales per region\n",
    "region_sales = data.groupby(\"Region\")[\"Sales\"].sum().reset_index()\n",
    "plt.figure(figsize=(8, 6))\n",
    "sns.barplot(x=\"Region\", y=\"Sales\", data=region_sales)\n",
    "plt.title(\"Total Sales per Region\")\n",
    "plt.xlabel(\"Region\")\n",
    "plt.ylabel(\"Total Sales\")\n",
    "plt.show()\n",
    "\n",
    "# Scatter plot: Marketing Spend vs Sales\n",
    "plt.figure(figsize=(8, 6))\n",
    "sns.scatterplot(x=\"Marketing_Spend\", y=\"Sales\", data=data)\n",
    "plt.title(\"Marketing Spend vs Sales\")\n",
    "plt.xlabel(\"Marketing Spend\")\n",
    "plt.ylabel(\"Sales\")\n",
    "plt.show()\n",
    "\n",
    "# Boxplot: Drug effectiveness across age groups\n",
    "plt.figure(figsize=(8, 6))\n",
    "sns.boxplot(x=\"Age_Group\", y=\"Effectiveness\", data=data)\n",
    "plt.title(\"Drug Effectiveness by Age Group\")\n",
    "plt.xlabel(\"Age Group\")\n",
    "plt.ylabel(\"Effectiveness\")\n",
    "plt.show()\n",
    "\n",
    "# Line plot: Sales trend for each product over trial periods\n",
    "plt.figure(figsize=(10, 6))\n",
    "sns.lineplot(x=\"Trial_Period\", y=\"Sales\", hue=\"Product\", data=data)\n",
    "plt.title(\"Sales Trend per Product over Trial Periods\")\n",
    "plt.xlabel(\"Trial Period\")\n",
    "plt.ylabel(\"Sales\")\n",
    "plt.show()\n",
    "\n",
    "# Heatmap: Correlation between Sales, Marketing Spend, and Effectiveness\n",
    "correlation_data = data[[\"Sales\", \"Marketing_Spend\", \"Effectiveness\"]].corr()\n",
    "plt.figure(figsize=(8, 6))\n",
    "sns.heatmap(correlation_data, annot=True, cmap=\"coolwarm\", fmt=\".2f\")\n",
    "plt.title(\"Correlation Heatmap\")\n",
    "plt.show()\n"
   ]
  }
 ],
 "metadata": {
  "kernelspec": {
   "display_name": "Python [conda env:base] *",
   "language": "python",
   "name": "conda-base-py"
  },
  "language_info": {
   "codemirror_mode": {
    "name": "ipython",
    "version": 3
   },
   "file_extension": ".py",
   "mimetype": "text/x-python",
   "name": "python",
   "nbconvert_exporter": "python",
   "pygments_lexer": "ipython3",
   "version": "3.12.7"
  }
 },
 "nbformat": 4,
 "nbformat_minor": 5
}
