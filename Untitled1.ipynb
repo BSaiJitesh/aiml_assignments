{
 "cells": [
  {
   "cell_type": "code",
   "execution_count": 1,
   "id": "5e5161c8-54a1-489d-aab7-5049826d76a3",
   "metadata": {},
   "outputs": [
    {
     "name": "stdout",
     "output_type": "stream",
     "text": [
      "42 <class 'int'>\n",
      "3.14 <class 'float'>\n",
      "Hello <class 'str'>\n",
      "True <class 'bool'>\n"
     ]
    }
   ],
   "source": [
    "int = 42\n",
    "float = 3.14\n",
    "string  = \"Hello\"\n",
    "boolean  = True\n",
    "print(int,type(int))\n",
    "print(float,type(float))\n",
    "print(string,type(string))\n",
    "print(boolean,type(boolean))\n"
   ]
  },
  {
   "cell_type": "code",
   "execution_count": null,
   "id": "7f089320-0b0d-4e6a-b5bf-98b3ada59595",
   "metadata": {},
   "outputs": [],
   "source": []
  }
 ],
 "metadata": {
  "kernelspec": {
   "display_name": "Python [conda env:base] *",
   "language": "python",
   "name": "conda-base-py"
  },
  "language_info": {
   "codemirror_mode": {
    "name": "ipython",
    "version": 3
   },
   "file_extension": ".py",
   "mimetype": "text/x-python",
   "name": "python",
   "nbconvert_exporter": "python",
   "pygments_lexer": "ipython3",
   "version": "3.12.7"
  }
 },
 "nbformat": 4,
 "nbformat_minor": 5
}
