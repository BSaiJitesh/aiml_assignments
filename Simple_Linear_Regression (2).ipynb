{
 "cells": [
  {
   "cell_type": "code",
   "execution_count": 1,
   "id": "001f55d9-a5d9-442d-9a84-46f8ab00a5f9",
   "metadata": {},
   "outputs": [],
   "source": [
    "import pandas as pd\n",
    "import numpy as np\n",
    "import seaborn as sns\n",
    "import matplotlib.pyplot as plt\n",
    "import statsmodels.formula.api as smf"
   ]
  },
  {
   "cell_type": "code",
   "execution_count": 2,
   "id": "1ec0d0df-a001-492d-89ec-ceeafe4ee9b5",
   "metadata": {},
   "outputs": [
    {
     "data": {
      "text/html": [
       "<div>\n",
       "<style scoped>\n",
       "    .dataframe tbody tr th:only-of-type {\n",
       "        vertical-align: middle;\n",
       "    }\n",
       "\n",
       "    .dataframe tbody tr th {\n",
       "        vertical-align: top;\n",
       "    }\n",
       "\n",
       "    .dataframe thead th {\n",
       "        text-align: right;\n",
       "    }\n",
       "</style>\n",
       "<table border=\"1\" class=\"dataframe\">\n",
       "  <thead>\n",
       "    <tr style=\"text-align: right;\">\n",
       "      <th></th>\n",
       "      <th>Newspaper</th>\n",
       "      <th>daily</th>\n",
       "      <th>sunday</th>\n",
       "    </tr>\n",
       "  </thead>\n",
       "  <tbody>\n",
       "    <tr>\n",
       "      <th>0</th>\n",
       "      <td>Baltimore Sun</td>\n",
       "      <td>391.952</td>\n",
       "      <td>488.506</td>\n",
       "    </tr>\n",
       "    <tr>\n",
       "      <th>1</th>\n",
       "      <td>Boston Globe</td>\n",
       "      <td>516.981</td>\n",
       "      <td>798.298</td>\n",
       "    </tr>\n",
       "    <tr>\n",
       "      <th>2</th>\n",
       "      <td>Boston Herald</td>\n",
       "      <td>355.628</td>\n",
       "      <td>235.084</td>\n",
       "    </tr>\n",
       "    <tr>\n",
       "      <th>3</th>\n",
       "      <td>Charlotte Observer</td>\n",
       "      <td>238.555</td>\n",
       "      <td>299.451</td>\n",
       "    </tr>\n",
       "    <tr>\n",
       "      <th>4</th>\n",
       "      <td>Chicago Sun Times</td>\n",
       "      <td>537.780</td>\n",
       "      <td>559.093</td>\n",
       "    </tr>\n",
       "    <tr>\n",
       "      <th>5</th>\n",
       "      <td>Chicago Tribune</td>\n",
       "      <td>733.775</td>\n",
       "      <td>1133.249</td>\n",
       "    </tr>\n",
       "    <tr>\n",
       "      <th>6</th>\n",
       "      <td>Cincinnati Enquirer</td>\n",
       "      <td>198.832</td>\n",
       "      <td>348.744</td>\n",
       "    </tr>\n",
       "    <tr>\n",
       "      <th>7</th>\n",
       "      <td>Denver Post</td>\n",
       "      <td>252.624</td>\n",
       "      <td>417.779</td>\n",
       "    </tr>\n",
       "    <tr>\n",
       "      <th>8</th>\n",
       "      <td>Des Moines Register</td>\n",
       "      <td>206.204</td>\n",
       "      <td>344.522</td>\n",
       "    </tr>\n",
       "    <tr>\n",
       "      <th>9</th>\n",
       "      <td>Hartford Courant</td>\n",
       "      <td>231.177</td>\n",
       "      <td>323.084</td>\n",
       "    </tr>\n",
       "    <tr>\n",
       "      <th>10</th>\n",
       "      <td>Houston Chronicle</td>\n",
       "      <td>449.755</td>\n",
       "      <td>620.752</td>\n",
       "    </tr>\n",
       "    <tr>\n",
       "      <th>11</th>\n",
       "      <td>Kansas City Star</td>\n",
       "      <td>288.571</td>\n",
       "      <td>423.305</td>\n",
       "    </tr>\n",
       "    <tr>\n",
       "      <th>12</th>\n",
       "      <td>Los Angeles Daily  News</td>\n",
       "      <td>185.736</td>\n",
       "      <td>202.614</td>\n",
       "    </tr>\n",
       "    <tr>\n",
       "      <th>13</th>\n",
       "      <td>Los Angeles Times</td>\n",
       "      <td>1164.388</td>\n",
       "      <td>1531.527</td>\n",
       "    </tr>\n",
       "    <tr>\n",
       "      <th>14</th>\n",
       "      <td>Miami Herald</td>\n",
       "      <td>444.581</td>\n",
       "      <td>553.479</td>\n",
       "    </tr>\n",
       "    <tr>\n",
       "      <th>15</th>\n",
       "      <td>Minneapolis Star Tribune</td>\n",
       "      <td>412.871</td>\n",
       "      <td>685.975</td>\n",
       "    </tr>\n",
       "    <tr>\n",
       "      <th>16</th>\n",
       "      <td>New Orleans Times-Picayune</td>\n",
       "      <td>272.280</td>\n",
       "      <td>324.241</td>\n",
       "    </tr>\n",
       "    <tr>\n",
       "      <th>17</th>\n",
       "      <td>New York Daily News</td>\n",
       "      <td>781.796</td>\n",
       "      <td>983.240</td>\n",
       "    </tr>\n",
       "    <tr>\n",
       "      <th>18</th>\n",
       "      <td>New York Times</td>\n",
       "      <td>1209.225</td>\n",
       "      <td>1762.015</td>\n",
       "    </tr>\n",
       "    <tr>\n",
       "      <th>19</th>\n",
       "      <td>Newsday</td>\n",
       "      <td>825.512</td>\n",
       "      <td>960.308</td>\n",
       "    </tr>\n",
       "    <tr>\n",
       "      <th>20</th>\n",
       "      <td>Omaha World Herald</td>\n",
       "      <td>223.748</td>\n",
       "      <td>284.611</td>\n",
       "    </tr>\n",
       "    <tr>\n",
       "      <th>21</th>\n",
       "      <td>Orange County Register</td>\n",
       "      <td>354.843</td>\n",
       "      <td>407.760</td>\n",
       "    </tr>\n",
       "    <tr>\n",
       "      <th>22</th>\n",
       "      <td>Philadelphia Inquirer</td>\n",
       "      <td>515.523</td>\n",
       "      <td>982.663</td>\n",
       "    </tr>\n",
       "    <tr>\n",
       "      <th>23</th>\n",
       "      <td>Pittsburgh Press</td>\n",
       "      <td>220.465</td>\n",
       "      <td>557.000</td>\n",
       "    </tr>\n",
       "    <tr>\n",
       "      <th>24</th>\n",
       "      <td>Portland Oregonian</td>\n",
       "      <td>337.672</td>\n",
       "      <td>440.923</td>\n",
       "    </tr>\n",
       "    <tr>\n",
       "      <th>25</th>\n",
       "      <td>Providence Journal-Bulletin</td>\n",
       "      <td>197.120</td>\n",
       "      <td>268.060</td>\n",
       "    </tr>\n",
       "    <tr>\n",
       "      <th>26</th>\n",
       "      <td>Rochester Democrat &amp; Chronicle</td>\n",
       "      <td>133.239</td>\n",
       "      <td>262.048</td>\n",
       "    </tr>\n",
       "    <tr>\n",
       "      <th>27</th>\n",
       "      <td>Rocky Mountain News</td>\n",
       "      <td>374.009</td>\n",
       "      <td>432.502</td>\n",
       "    </tr>\n",
       "    <tr>\n",
       "      <th>28</th>\n",
       "      <td>Sacramento Bee</td>\n",
       "      <td>273.844</td>\n",
       "      <td>338.355</td>\n",
       "    </tr>\n",
       "    <tr>\n",
       "      <th>29</th>\n",
       "      <td>San Francisco Chronicle</td>\n",
       "      <td>570.364</td>\n",
       "      <td>704.322</td>\n",
       "    </tr>\n",
       "    <tr>\n",
       "      <th>30</th>\n",
       "      <td>St. Louis Post-Dispatch</td>\n",
       "      <td>391.286</td>\n",
       "      <td>585.681</td>\n",
       "    </tr>\n",
       "    <tr>\n",
       "      <th>31</th>\n",
       "      <td>St. Paul Pioneer Press</td>\n",
       "      <td>201.860</td>\n",
       "      <td>267.781</td>\n",
       "    </tr>\n",
       "    <tr>\n",
       "      <th>32</th>\n",
       "      <td>Tampa Tribune</td>\n",
       "      <td>321.626</td>\n",
       "      <td>408.343</td>\n",
       "    </tr>\n",
       "    <tr>\n",
       "      <th>33</th>\n",
       "      <td>Washington Post</td>\n",
       "      <td>838.902</td>\n",
       "      <td>1165.567</td>\n",
       "    </tr>\n",
       "  </tbody>\n",
       "</table>\n",
       "</div>"
      ],
      "text/plain": [
       "                         Newspaper     daily    sunday\n",
       "0                    Baltimore Sun   391.952   488.506\n",
       "1                     Boston Globe   516.981   798.298\n",
       "2                    Boston Herald   355.628   235.084\n",
       "3               Charlotte Observer   238.555   299.451\n",
       "4                Chicago Sun Times   537.780   559.093\n",
       "5                  Chicago Tribune   733.775  1133.249\n",
       "6              Cincinnati Enquirer   198.832   348.744\n",
       "7                      Denver Post   252.624   417.779\n",
       "8              Des Moines Register   206.204   344.522\n",
       "9                 Hartford Courant   231.177   323.084\n",
       "10               Houston Chronicle   449.755   620.752\n",
       "11                Kansas City Star   288.571   423.305\n",
       "12         Los Angeles Daily  News   185.736   202.614\n",
       "13               Los Angeles Times  1164.388  1531.527\n",
       "14                    Miami Herald   444.581   553.479\n",
       "15        Minneapolis Star Tribune   412.871   685.975\n",
       "16      New Orleans Times-Picayune   272.280   324.241\n",
       "17             New York Daily News   781.796   983.240\n",
       "18                  New York Times  1209.225  1762.015\n",
       "19                         Newsday   825.512   960.308\n",
       "20              Omaha World Herald   223.748   284.611\n",
       "21          Orange County Register   354.843   407.760\n",
       "22           Philadelphia Inquirer   515.523   982.663\n",
       "23                Pittsburgh Press   220.465   557.000\n",
       "24              Portland Oregonian   337.672   440.923\n",
       "25     Providence Journal-Bulletin   197.120   268.060\n",
       "26  Rochester Democrat & Chronicle   133.239   262.048\n",
       "27             Rocky Mountain News   374.009   432.502\n",
       "28                  Sacramento Bee   273.844   338.355\n",
       "29         San Francisco Chronicle   570.364   704.322\n",
       "30         St. Louis Post-Dispatch   391.286   585.681\n",
       "31          St. Paul Pioneer Press   201.860   267.781\n",
       "32                   Tampa Tribune   321.626   408.343\n",
       "33                 Washington Post   838.902  1165.567"
      ]
     },
     "execution_count": 2,
     "metadata": {},
     "output_type": "execute_result"
    }
   ],
   "source": [
    "data1=pd.read_csv(\"NewspaperData.csv\")\n",
    "data1"
   ]
  },
  {
   "cell_type": "code",
   "execution_count": 3,
   "id": "46a34e68-b52f-4086-97c3-9758e1e95ba7",
   "metadata": {},
   "outputs": [
    {
     "name": "stdout",
     "output_type": "stream",
     "text": [
      "<class 'pandas.core.frame.DataFrame'>\n",
      "RangeIndex: 34 entries, 0 to 33\n",
      "Data columns (total 3 columns):\n",
      " #   Column     Non-Null Count  Dtype  \n",
      "---  ------     --------------  -----  \n",
      " 0   Newspaper  34 non-null     object \n",
      " 1   daily      34 non-null     float64\n",
      " 2   sunday     34 non-null     float64\n",
      "dtypes: float64(2), object(1)\n",
      "memory usage: 948.0+ bytes\n"
     ]
    }
   ],
   "source": [
    "data1.info()"
   ]
  },
  {
   "cell_type": "code",
   "execution_count": 4,
   "id": "a886307e-af83-4888-8984-79e779e86db5",
   "metadata": {},
   "outputs": [
    {
     "data": {
      "text/plain": [
       "<bound method DataFrame.info of                          Newspaper     daily    sunday\n",
       "0                    Baltimore Sun   391.952   488.506\n",
       "1                     Boston Globe   516.981   798.298\n",
       "2                    Boston Herald   355.628   235.084\n",
       "3               Charlotte Observer   238.555   299.451\n",
       "4                Chicago Sun Times   537.780   559.093\n",
       "5                  Chicago Tribune   733.775  1133.249\n",
       "6              Cincinnati Enquirer   198.832   348.744\n",
       "7                      Denver Post   252.624   417.779\n",
       "8              Des Moines Register   206.204   344.522\n",
       "9                 Hartford Courant   231.177   323.084\n",
       "10               Houston Chronicle   449.755   620.752\n",
       "11                Kansas City Star   288.571   423.305\n",
       "12         Los Angeles Daily  News   185.736   202.614\n",
       "13               Los Angeles Times  1164.388  1531.527\n",
       "14                    Miami Herald   444.581   553.479\n",
       "15        Minneapolis Star Tribune   412.871   685.975\n",
       "16      New Orleans Times-Picayune   272.280   324.241\n",
       "17             New York Daily News   781.796   983.240\n",
       "18                  New York Times  1209.225  1762.015\n",
       "19                         Newsday   825.512   960.308\n",
       "20              Omaha World Herald   223.748   284.611\n",
       "21          Orange County Register   354.843   407.760\n",
       "22           Philadelphia Inquirer   515.523   982.663\n",
       "23                Pittsburgh Press   220.465   557.000\n",
       "24              Portland Oregonian   337.672   440.923\n",
       "25     Providence Journal-Bulletin   197.120   268.060\n",
       "26  Rochester Democrat & Chronicle   133.239   262.048\n",
       "27             Rocky Mountain News   374.009   432.502\n",
       "28                  Sacramento Bee   273.844   338.355\n",
       "29         San Francisco Chronicle   570.364   704.322\n",
       "30         St. Louis Post-Dispatch   391.286   585.681\n",
       "31          St. Paul Pioneer Press   201.860   267.781\n",
       "32                   Tampa Tribune   321.626   408.343\n",
       "33                 Washington Post   838.902  1165.567>"
      ]
     },
     "execution_count": 4,
     "metadata": {},
     "output_type": "execute_result"
    }
   ],
   "source": [
    "data1.info"
   ]
  },
  {
   "cell_type": "code",
   "execution_count": 5,
   "id": "822d6c4f-fc1f-4aec-8dd7-86b04a26d18b",
   "metadata": {},
   "outputs": [
    {
     "data": {
      "text/html": [
       "<div>\n",
       "<style scoped>\n",
       "    .dataframe tbody tr th:only-of-type {\n",
       "        vertical-align: middle;\n",
       "    }\n",
       "\n",
       "    .dataframe tbody tr th {\n",
       "        vertical-align: top;\n",
       "    }\n",
       "\n",
       "    .dataframe thead th {\n",
       "        text-align: right;\n",
       "    }\n",
       "</style>\n",
       "<table border=\"1\" class=\"dataframe\">\n",
       "  <thead>\n",
       "    <tr style=\"text-align: right;\">\n",
       "      <th></th>\n",
       "      <th>daily</th>\n",
       "      <th>sunday</th>\n",
       "    </tr>\n",
       "  </thead>\n",
       "  <tbody>\n",
       "    <tr>\n",
       "      <th>count</th>\n",
       "      <td>34.000000</td>\n",
       "      <td>34.000000</td>\n",
       "    </tr>\n",
       "    <tr>\n",
       "      <th>mean</th>\n",
       "      <td>430.962471</td>\n",
       "      <td>591.202412</td>\n",
       "    </tr>\n",
       "    <tr>\n",
       "      <th>std</th>\n",
       "      <td>269.211470</td>\n",
       "      <td>376.418051</td>\n",
       "    </tr>\n",
       "    <tr>\n",
       "      <th>min</th>\n",
       "      <td>133.239000</td>\n",
       "      <td>202.614000</td>\n",
       "    </tr>\n",
       "    <tr>\n",
       "      <th>25%</th>\n",
       "      <td>233.021500</td>\n",
       "      <td>327.769500</td>\n",
       "    </tr>\n",
       "    <tr>\n",
       "      <th>50%</th>\n",
       "      <td>355.235500</td>\n",
       "      <td>436.712500</td>\n",
       "    </tr>\n",
       "    <tr>\n",
       "      <th>75%</th>\n",
       "      <td>516.616500</td>\n",
       "      <td>699.735250</td>\n",
       "    </tr>\n",
       "    <tr>\n",
       "      <th>max</th>\n",
       "      <td>1209.225000</td>\n",
       "      <td>1762.015000</td>\n",
       "    </tr>\n",
       "  </tbody>\n",
       "</table>\n",
       "</div>"
      ],
      "text/plain": [
       "             daily       sunday\n",
       "count    34.000000    34.000000\n",
       "mean    430.962471   591.202412\n",
       "std     269.211470   376.418051\n",
       "min     133.239000   202.614000\n",
       "25%     233.021500   327.769500\n",
       "50%     355.235500   436.712500\n",
       "75%     516.616500   699.735250\n",
       "max    1209.225000  1762.015000"
      ]
     },
     "execution_count": 5,
     "metadata": {},
     "output_type": "execute_result"
    }
   ],
   "source": [
    "data1.describe()"
   ]
  },
  {
   "cell_type": "code",
   "execution_count": 6,
   "id": "a7e475ce-cd5f-4f76-966c-ea07744d8e21",
   "metadata": {},
   "outputs": [
    {
     "data": {
      "text/plain": [
       "[array([1164.388, 1209.225])]"
      ]
     },
     "execution_count": 6,
     "metadata": {},
     "output_type": "execute_result"
    },
    {
     "data": {
      "image/png": "[encoded data removed]",
      "text/plain": [
       "<Figure size 600x200 with 1 Axes>"
      ]
     },
     "metadata": {},
     "output_type": "display_data"
    }
   ],
   "source": [
    "#Extract outliers from boxplot for daily column\n",
    "plt.figure(figsize=(6,2))\n",
    "boxplot_data = plt.boxplot(data1[\"daily\"],vert=False)\n",
    "[item.get_xdata() for item in boxplot_data ['fliers']]#fliers are outliers#Method-"
   ]
  },
  {
   "cell_type": "code",
   "execution_count": 7,
   "id": "1ccb9082-a726-45c3-8645-0fb35aec9c3d",
   "metadata": {},
   "outputs": [
    {
     "data": {
      "text/plain": [
       "<Axes: xlabel='daily', ylabel='Density'>"
      ]
     },
     "execution_count": 7,
     "metadata": {},
     "output_type": "execute_result"
    },
    {
     "data": {
      "image/png": "[encoded data removed]",
      "text/plain": [
       "<Figure size 640x480 with 1 Axes>"
      ]
     },
     "metadata": {},
     "output_type": "display_data"
    }
   ],
   "source": [
    "sns.kdeplot(data=data1[\"daily\"],fill=True,color=\"green\")"
   ]
  },
  {
   "cell_type": "code",
   "execution_count": 8,
   "id": "afce8134-5431-4c36-a1e2-865bb56413eb",
   "metadata": {},
   "outputs": [
    {
     "data": {
      "text/plain": [
       "<Axes: xlabel='daily', ylabel='Count'>"
      ]
     },
     "execution_count": 8,
     "metadata": {},
     "output_type": "execute_result"
    },
    {
     "data": {
      "image/png": "[encoded data removed]",
      "text/plain": [
       "<Figure size 640x480 with 1 Axes>"
      ]
     },
     "metadata": {},
     "output_type": "display_data"
    }
   ],
   "source": [
    "sns.histplot(data1 [\"daily\"], color='purple')"
   ]
  },
  {
   "cell_type": "code",
   "execution_count": 9,
   "id": "984082a8-5ff3-4bd5-9e1a-312f3471fde1",
   "metadata": {},
   "outputs": [
    {
     "data": {
      "text/plain": [
       "<Axes: xlabel='daily', ylabel='Count'>"
      ]
     },
     "execution_count": 9,
     "metadata": {},
     "output_type": "execute_result"
    },
    {
     "data": {
      "image/png": "[encoded data removed]",
      "text/plain": [
       "<Figure size 640x480 with 1 Axes>"
      ]
     },
     "metadata": {},
     "output_type": "display_data"
    }
   ],
   "source": [
    "sns.histplot(data1[\"daily\"], kde=True,color='purple')"
   ]
  },
  {
   "cell_type": "code",
   "execution_count": 10,
   "id": "fe7461d9-3d29-4fbc-9563-ebcd7450af39",
   "metadata": {},
   "outputs": [
    {
     "data": {
      "image/png": "[encoded data removed]",
      "text/plain": [
       "<Figure size 640x480 with 1 Axes>"
      ]
     },
     "metadata": {},
     "output_type": "display_data"
    }
   ],
   "source": [
    "boxplot_data = plt.boxplot(data1[\"daily\"])"
   ]
  },
  {
   "cell_type": "code",
   "execution_count": 11,
   "id": "322285f8-6d72-48b6-94c5-beab6c18096e",
   "metadata": {},
   "outputs": [
    {
     "data": {
      "text/plain": [
       "<matplotlib.collections.PathCollection at 0x19d082cf0e0>"
      ]
     },
     "execution_count": 11,
     "metadata": {},
     "output_type": "execute_result"
    },
    {
     "data": {
      "image/png": "[encoded data removed]",
      "text/plain": [
       "<Figure size 640x480 with 1 Axes>"
      ]
     },
     "metadata": {},
     "output_type": "display_data"
    }
   ],
   "source": [
    "plt.scatter(data1[\"daily\"],data1[\"sunday\"])"
   ]
  },
  {
   "cell_type": "markdown",
   "id": "496c2569-0c63-45d9-896c-ab335fc20062",
   "metadata": {},
   "source": [
    "Observations\n",
    "* A high correlation is observed"
   ]
  },
  {
   "cell_type": "code",
   "execution_count": 18,
   "id": "50d67aea-01e3-46bf-9afb-562f5da8de0e",
   "metadata": {},
   "outputs": [
    {
     "data": {
      "text/plain": [
       "0.9581543140785462"
      ]
     },
     "execution_count": 18,
     "metadata": {},
     "output_type": "execute_result"
    }
   ],
   "source": [
    "data1[\"daily\"].corr(data1[\"sunday\"])"
   ]
  },
  {
   "cell_type": "code",
   "execution_count": 20,
   "id": "29c5d86d-53d0-4173-a999-5624733fed32",
   "metadata": {},
   "outputs": [
    {
     "data": {
      "text/html": [
       "<div>\n",
       "<style scoped>\n",
       "    .dataframe tbody tr th:only-of-type {\n",
       "        vertical-align: middle;\n",
       "    }\n",
       "\n",
       "    .dataframe tbody tr th {\n",
       "        vertical-align: top;\n",
       "    }\n",
       "\n",
       "    .dataframe thead th {\n",
       "        text-align: right;\n",
       "    }\n",
       "</style>\n",
       "<table border=\"1\" class=\"dataframe\">\n",
       "  <thead>\n",
       "    <tr style=\"text-align: right;\">\n",
       "      <th></th>\n",
       "      <th>daily</th>\n",
       "      <th>sunday</th>\n",
       "    </tr>\n",
       "  </thead>\n",
       "  <tbody>\n",
       "    <tr>\n",
       "      <th>daily</th>\n",
       "      <td>1.000000</td>\n",
       "      <td>0.958154</td>\n",
       "    </tr>\n",
       "    <tr>\n",
       "      <th>sunday</th>\n",
       "      <td>0.958154</td>\n",
       "      <td>1.000000</td>\n",
       "    </tr>\n",
       "  </tbody>\n",
       "</table>\n",
       "</div>"
      ],
      "text/plain": [
       "           daily    sunday\n",
       "daily   1.000000  0.958154\n",
       "sunday  0.958154  1.000000"
      ]
     },
     "execution_count": 20,
     "metadata": {},
     "output_type": "execute_result"
    }
   ],
   "source": [
    "data1.corr(numeric_only=True)"
   ]
  },
  {
   "cell_type": "markdown",
   "id": "d95f6f84-51dd-4bed-b255-48d063349867",
   "metadata": {},
   "source": [
    "Obsevations on Correlation strength\n",
    "* The relationship between x(daily) and y(sunday) is seen to be linear as seen from scatter plot\n",
    "* The correlation is strong  and positive with pearson's correlation coefficient 0.958154"
   ]
  },
  {
   "cell_type": "code",
   "execution_count": 23,
   "id": "17e63ecb-4863-4625-a364-083070bee253",
   "metadata": {},
   "outputs": [],
   "source": [
    "# Build regression model\n",
    "import statsmodels.formula.api as smf\n",
    "model1 = smf.ols(\"sunday~daily\",data = data1).fit()"
   ]
  },
  {
   "cell_type": "code",
   "execution_count": 25,
   "id": "d18db1a7-1151-4107-8428-743709cea908",
   "metadata": {},
   "outputs": [
    {
     "data": {
      "text/html": [
       "<table class=\"simpletable\">\n",
       "<caption>OLS Regression Results</caption>\n",
       "<tr>\n",
       "  <th>Dep. Variable:</th>         <td>sunday</td>      <th>  R-squared:         </th> <td>   0.918</td>\n",
       "</tr>\n",
       "<tr>\n",
       "  <th>Model:</th>                   <td>OLS</td>       <th>  Adj. R-squared:    </th> <td>   0.915</td>\n",
       "</tr>\n",
       "<tr>\n",
       "  <th>Method:</th>             <td>Least Squares</td>  <th>  F-statistic:       </th> <td>   358.5</td>\n",
       "</tr>\n",
       "<tr>\n",
       "  <th>Date:</th>             <td>Mon, 03 Feb 2025</td> <th>  Prob (F-statistic):</th> <td>6.02e-19</td>\n",
       "</tr>\n",
       "<tr>\n",
       "  <th>Time:</th>                 <td>09:33:20</td>     <th>  Log-Likelihood:    </th> <td> -206.85</td>\n",
       "</tr>\n",
       "<tr>\n",
       "  <th>No. Observations:</th>      <td>    34</td>      <th>  AIC:               </th> <td>   417.7</td>\n",
       "</tr>\n",
       "<tr>\n",
       "  <th>Df Residuals:</th>          <td>    32</td>      <th>  BIC:               </th> <td>   420.8</td>\n",
       "</tr>\n",
       "<tr>\n",
       "  <th>Df Model:</th>              <td>     1</td>      <th>                     </th>     <td> </td>   \n",
       "</tr>\n",
       "<tr>\n",
       "  <th>Covariance Type:</th>      <td>nonrobust</td>    <th>                     </th>     <td> </td>   \n",
       "</tr>\n",
       "</table>\n",
       "<table class=\"simpletable\">\n",
       "<tr>\n",
       "      <td></td>         <th>coef</th>     <th>std err</th>      <th>t</th>      <th>P>|t|</th>  <th>[0.025</th>    <th>0.975]</th>  \n",
       "</tr>\n",
       "<tr>\n",
       "  <th>Intercept</th> <td>   13.8356</td> <td>   35.804</td> <td>    0.386</td> <td> 0.702</td> <td>  -59.095</td> <td>   86.766</td>\n",
       "</tr>\n",
       "<tr>\n",
       "  <th>daily</th>     <td>    1.3397</td> <td>    0.071</td> <td>   18.935</td> <td> 0.000</td> <td>    1.196</td> <td>    1.484</td>\n",
       "</tr>\n",
       "</table>\n",
       "<table class=\"simpletable\">\n",
       "<tr>\n",
       "  <th>Omnibus:</th>       <td> 3.297</td> <th>  Durbin-Watson:     </th> <td>   2.059</td>\n",
       "</tr>\n",
       "<tr>\n",
       "  <th>Prob(Omnibus):</th> <td> 0.192</td> <th>  Jarque-Bera (JB):  </th> <td>   1.990</td>\n",
       "</tr>\n",
       "<tr>\n",
       "  <th>Skew:</th>          <td> 0.396</td> <th>  Prob(JB):          </th> <td>   0.370</td>\n",
       "</tr>\n",
       "<tr>\n",
       "  <th>Kurtosis:</th>      <td> 3.882</td> <th>  Cond. No.          </th> <td>    965.</td>\n",
       "</tr>\n",
       "</table><br/><br/>Notes:<br/>[1] Standard Errors assume that the covariance matrix of the errors is correctly specified."
      ],
      "text/latex": [
       "\\begin{center}\n",
       "\\begin{tabular}{lclc}\n",
       "\\toprule\n",
       "\\textbf{Dep. Variable:}    &      sunday      & \\textbf{  R-squared:         } &     0.918   \\\\\n",
       "\\textbf{Model:}            &       OLS        & \\textbf{  Adj. R-squared:    } &     0.915   \\\\\n",
       "\\textbf{Method:}           &  Least Squares   & \\textbf{  F-statistic:       } &     358.5   \\\\\n",
       "\\textbf{Date:}             & Mon, 03 Feb 2025 & \\textbf{  Prob (F-statistic):} &  6.02e-19   \\\\\n",
       "\\textbf{Time:}             &     09:33:20     & \\textbf{  Log-Likelihood:    } &   -206.85   \\\\\n",
       "\\textbf{No. Observations:} &          34      & \\textbf{  AIC:               } &     417.7   \\\\\n",
       "\\textbf{Df Residuals:}     &          32      & \\textbf{  BIC:               } &     420.8   \\\\\n",
       "\\textbf{Df Model:}         &           1      & \\textbf{                     } &             \\\\\n",
       "\\textbf{Covariance Type:}  &    nonrobust     & \\textbf{                     } &             \\\\\n",
       "\\bottomrule\n",
       "\\end{tabular}\n",
       "\\begin{tabular}{lcccccc}\n",
       "                   & \\textbf{coef} & \\textbf{std err} & \\textbf{t} & \\textbf{P$> |$t$|$} & \\textbf{[0.025} & \\textbf{0.975]}  \\\\\n",
       "\\midrule\n",
       "\\textbf{Intercept} &      13.8356  &       35.804     &     0.386  &         0.702        &      -59.095    &       86.766     \\\\\n",
       "\\textbf{daily}     &       1.3397  &        0.071     &    18.935  &         0.000        &        1.196    &        1.484     \\\\\n",
       "\\bottomrule\n",
       "\\end{tabular}\n",
       "\\begin{tabular}{lclc}\n",
       "\\textbf{Omnibus:}       &  3.297 & \\textbf{  Durbin-Watson:     } &    2.059  \\\\\n",
       "\\textbf{Prob(Omnibus):} &  0.192 & \\textbf{  Jarque-Bera (JB):  } &    1.990  \\\\\n",
       "\\textbf{Skew:}          &  0.396 & \\textbf{  Prob(JB):          } &    0.370  \\\\\n",
       "\\textbf{Kurtosis:}      &  3.882 & \\textbf{  Cond. No.          } &     965.  \\\\\n",
       "\\bottomrule\n",
       "\\end{tabular}\n",
       "%\\caption{OLS Regression Results}\n",
       "\\end{center}\n",
       "\n",
       "Notes: \\newline\n",
       " [1] Standard Errors assume that the covariance matrix of the errors is correctly specified."
      ],
      "text/plain": [
       "<class 'statsmodels.iolib.summary.Summary'>\n",
       "\"\"\"\n",
       "                            OLS Regression Results                            \n",
       "==============================================================================\n",
       "Dep. Variable:                 sunday   R-squared:                       0.918\n",
       "Model:                            OLS   Adj. R-squared:                  0.915\n",
       "Method:                 Least Squares   F-statistic:                     358.5\n",
       "Date:                Mon, 03 Feb 2025   Prob (F-statistic):           6.02e-19\n",
       "Time:                        09:33:20   Log-Likelihood:                -206.85\n",
       "No. Observations:                  34   AIC:                             417.7\n",
       "Df Residuals:                      32   BIC:                             420.8\n",
       "Df Model:                           1                                         \n",
       "Covariance Type:            nonrobust                                         \n",
       "==============================================================================\n",
       "                 coef    std err          t      P>|t|      [0.025      0.975]\n",
       "------------------------------------------------------------------------------\n",
       "Intercept     13.8356     35.804      0.386      0.702     -59.095      86.766\n",
       "daily          1.3397      0.071     18.935      0.000       1.196       1.484\n",
       "==============================================================================\n",
       "Omnibus:                        3.297   Durbin-Watson:                   2.059\n",
       "Prob(Omnibus):                  0.192   Jarque-Bera (JB):                1.990\n",
       "Skew:                           0.396   Prob(JB):                        0.370\n",
       "Kurtosis:                       3.882   Cond. No.                         965.\n",
       "==============================================================================\n",
       "\n",
       "Notes:\n",
       "[1] Standard Errors assume that the covariance matrix of the errors is correctly specified.\n",
       "\"\"\""
      ]
     },
     "execution_count": 25,
     "metadata": {},
     "output_type": "execute_result"
    }
   ],
   "source": [
    "model1.summary()"
   ]
  },
  {
   "cell_type": "markdown",
   "id": "4cd69446-9c81-4e07-b377-2b65de4efe4d",
   "metadata": {},
   "source": [
    "* The probability(p-value) for intercept (beta_0) is 0.707 > 0.05\n",
    "* Therefore the intercept coefficient may not be that much significant in prediction\n",
    "* However the p-value for \"daily\" (beta_1) is 0.00 < 0.05\n",
    "* Therefore the beta_1 coefficient is highly significant and is contributint to prediction"
   ]
  },
  {
   "cell_type": "markdown",
   "id": "591acdf4-4b6e-48c3-8e17-e17c01d4eabf",
   "metadata": {},
   "source": [
    "observations\n",
    "* The predicted equation is y_hat = beta_0 + beta_1 x\n",
    "* (beta_0 = 13.8356,beta_1 = 1.3397)\n",
    "* y_hat=13.8356 + 1.3397x"
   ]
  },
  {
   "cell_type": "code",
   "execution_count": 32,
   "id": "a286eac3-c1c8-4283-8368-c2f85090cb69",
   "metadata": {},
   "outputs": [
    {
     "data": {
      "image/png": "[encoded data removed]",
      "text/plain": [
       "<Figure size 640x480 with 1 Axes>"
      ]
     },
     "metadata": {},
     "output_type": "display_data"
    }
   ],
   "source": [
    "x=data1[\"daily\"].values\n",
    "y=data1[\"sunday\"].values\n",
    "plt.scatter(x,y,color=\"m\",marker=\"o\",s=30)\n",
    "b0=13.84\n",
    "b1=1.33\n",
    "y_hat = b0 + b1 * x\n",
    "plt.plot(x,y_hat,color=\"g\")\n",
    "plt.xlabel('x')\n",
    "plt.ylabel('y')\n",
    "plt.show()"
   ]
  },
  {
   "cell_type": "markdown",
   "id": "00acea10-9d9a-43ea-8b79-7884cf2c98e2",
   "metadata": {},
   "source": [
    "Observations\n",
    "* There are no missing values\n",
    "* The daily column values appears to be right-skewed\n",
    "* The sunday column values also appear to be right-skewed\n",
    "* There are two outliers in both daily column and also in sunday column as observed from the boxplot."
   ]
  },
  {
   "cell_type": "markdown",
   "id": "f8e0a2a0-4361-4ced-81b8-9658f268d240",
   "metadata": {},
   "source": [
    "Scatter plot and Correlation"
   ]
  },
  {
   "cell_type": "code",
   "execution_count": 39,
   "id": "10189fdb-11c0-4019-b225-6e1d9094efe5",
   "metadata": {},
   "outputs": [
    {
     "data": {
      "image/png": "[encoded data removed]",
      "text/plain": [
       "<Figure size 640x480 with 1 Axes>"
      ]
     },
     "metadata": {},
     "output_type": "display_data"
    }
   ],
   "source": [
    "x = data1[\"daily\"]\n",
    "y = data1[\"sunday\"]\n",
    "plt.scatter(data1[\"daily\"],data1[\"sunday\"])\n",
    "plt.xlim(0,max(x)+100)\n",
    "plt.ylim(0,max(y)+100)\n",
    "plt.show()"
   ]
  },
  {
   "cell_type": "code",
   "execution_count": 41,
   "id": "b3f40c82-210a-490e-a837-593c3925a0bd",
   "metadata": {},
   "outputs": [
    {
     "data": {
      "image/png": "[encoded data removed]",
      "text/plain": [
       "<Figure size 640x480 with 1 Axes>"
      ]
     },
     "metadata": {},
     "output_type": "display_data"
    }
   ],
   "source": [
    "# plot the linear regression line using seaborn regplot() method\n",
    "sns.regplot(x=\"daily\",y=\"sunday\",data=data1)\n",
    "plt.xlim([0,1250])\n",
    "plt.show()"
   ]
  },
  {
   "cell_type": "markdown",
   "id": "125f6177-6702-4520-aa09-ec0a2ad3f105",
   "metadata": {},
   "source": []
  },
  {
   "cell_type": "code",
   "execution_count": 44,
   "id": "d3655891-ba88-4b96-98c0-f08338566785",
   "metadata": {},
   "outputs": [
    {
     "data": {
      "text/plain": [
       "Intercept    13.835630\n",
       "daily         1.339715\n",
       "dtype: float64"
      ]
     },
     "execution_count": 44,
     "metadata": {},
     "output_type": "execute_result"
    }
   ],
   "source": [
    "model1.params"
   ]
  },
  {
   "cell_type": "code",
   "execution_count": null,
   "id": "d7a4ba96-1b69-4e89-a711-bee48ce02b27",
   "metadata": {},
   "outputs": [],
   "source": []
  },
  {
   "cell_type": "code",
   "execution_count": 56,
   "id": "ad257be1-c28b-4ad2-b66c-5a70593ed1da",
   "metadata": {},
   "outputs": [
    {
     "name": "stdout",
     "output_type": "stream",
     "text": [
      "model t-values:\n",
      "Intercept     0.386427\n",
      "daily        18.934840\n",
      "dtype: float64\n",
      "-------------------\n",
      "model p-values: \n",
      " Intercept    7.017382e-01\n",
      "daily        6.016802e-19\n",
      "dtype: float64\n"
     ]
    }
   ],
   "source": [
    "# print the model statistics (t and p values)\n",
    "print(f'model t-values:\\n{model1.tvalues}\\n-------------------\\nmodel p-values: \\n {model1.pvalues}')"
   ]
  },
  {
   "cell_type": "code",
   "execution_count": 58,
   "id": "07bf40b5-8345-4507-8c7f-58039ee305fe",
   "metadata": {},
   "outputs": [
    {
     "data": {
      "text/plain": [
       "(0.9180596895873294, 0.9154990548869335)"
      ]
     },
     "execution_count": 58,
     "metadata": {},
     "output_type": "execute_result"
    }
   ],
   "source": [
    "#print the Quality of fitted line(R squared values)\n",
    "(model1.rsquared,model1.rsquared_adj)"
   ]
  },
  {
   "cell_type": "markdown",
   "id": "9b4599ec-6989-479b-8990-b0f9ba4b09bb",
   "metadata": {},
   "source": [
    "Predict on new data\n"
   ]
  },
  {
   "cell_type": "code",
   "execution_count": 61,
   "id": "8a7bc3df-f729-4ea2-a874-c9c3dd83be37",
   "metadata": {},
   "outputs": [],
   "source": [
    "#Predict for 200 and 300 daily circulation\n",
    "newdata=pd.Series([20,300,1500])"
   ]
  },
  {
   "cell_type": "code",
   "execution_count": 69,
   "id": "a86ce3b8-ca5d-4d8a-9bf2-4afefdcf916b",
   "metadata": {},
   "outputs": [
    {
     "data": {
      "text/html": [
       "<div>\n",
       "<style scoped>\n",
       "    .dataframe tbody tr th:only-of-type {\n",
       "        vertical-align: middle;\n",
       "    }\n",
       "\n",
       "    .dataframe tbody tr th {\n",
       "        vertical-align: top;\n",
       "    }\n",
       "\n",
       "    .dataframe thead th {\n",
       "        text-align: right;\n",
       "    }\n",
       "</style>\n",
       "<table border=\"1\" class=\"dataframe\">\n",
       "  <thead>\n",
       "    <tr style=\"text-align: right;\">\n",
       "      <th></th>\n",
       "      <th>daily</th>\n",
       "    </tr>\n",
       "  </thead>\n",
       "  <tbody>\n",
       "    <tr>\n",
       "      <th>0</th>\n",
       "      <td>20</td>\n",
       "    </tr>\n",
       "    <tr>\n",
       "      <th>1</th>\n",
       "      <td>300</td>\n",
       "    </tr>\n",
       "    <tr>\n",
       "      <th>2</th>\n",
       "      <td>1500</td>\n",
       "    </tr>\n",
       "  </tbody>\n",
       "</table>\n",
       "</div>"
      ],
      "text/plain": [
       "   daily\n",
       "0     20\n",
       "1    300\n",
       "2   1500"
      ]
     },
     "execution_count": 69,
     "metadata": {},
     "output_type": "execute_result"
    }
   ],
   "source": [
    "data_pred = pd.DataFrame(newdata,columns=['daily'])\n",
    "data_pred "
   ]
  },
  {
   "cell_type": "code",
   "execution_count": 71,
   "id": "82a789be-bb49-492d-9986-6827a53e6931",
   "metadata": {},
   "outputs": [
    {
     "data": {
      "text/plain": [
       "0      40.629925\n",
       "1     415.750057\n",
       "2    2023.407766\n",
       "dtype: float64"
      ]
     },
     "execution_count": 71,
     "metadata": {},
     "output_type": "execute_result"
    }
   ],
   "source": [
    "model1.predict(data_pred)"
   ]
  },
  {
   "cell_type": "code",
   "execution_count": 311,
   "id": "b5bccf23-c8d2-4cac-b2b1-34a30a12e7a6",
   "metadata": {},
   "outputs": [
    {
     "data": {
      "text/plain": [
       "0      538.939509\n",
       "1      706.442705\n",
       "2      490.275710\n",
       "3      333.431284\n",
       "4      734.307432\n",
       "5      996.884826\n",
       "6      280.213795\n",
       "7      352.279731\n",
       "8      290.090172\n",
       "9      323.546868\n",
       "10     616.379041\n",
       "11     400.438457\n",
       "12     262.668890\n",
       "13    1573.783417\n",
       "14     609.447357\n",
       "15     566.965002\n",
       "16     378.613164\n",
       "17    1061.219269\n",
       "18    1633.852208\n",
       "19    1119.786239\n",
       "20     313.594128\n",
       "21     489.224034\n",
       "22     704.489401\n",
       "23     309.195844\n",
       "24     466.219792\n",
       "25     277.920203\n",
       "26     192.337885\n",
       "27     514.901007\n",
       "28     380.708478\n",
       "29     777.960698\n",
       "30     538.047259\n",
       "31     284.270451\n",
       "32     444.722729\n",
       "33    1137.725020\n",
       "dtype: float64"
      ]
     },
     "execution_count": 311,
     "metadata": {},
     "output_type": "execute_result"
    }
   ],
   "source": [
    "#predict on given all training data\n",
    "pred = model1.predict(data1[\"daily\"])\n",
    "pred"
   ]
  },
  {
   "cell_type": "code",
   "execution_count": 301,
   "id": "3b1e7320-5dd4-48d5-9551-5620d3cbe0c0",
   "metadata": {},
   "outputs": [
    {
     "data": {
      "text/html": [
       "<div>\n",
       "<style scoped>\n",
       "    .dataframe tbody tr th:only-of-type {\n",
       "        vertical-align: middle;\n",
       "    }\n",
       "\n",
       "    .dataframe tbody tr th {\n",
       "        vertical-align: top;\n",
       "    }\n",
       "\n",
       "    .dataframe thead th {\n",
       "        text-align: right;\n",
       "    }\n",
       "</style>\n",
       "<table border=\"1\" class=\"dataframe\">\n",
       "  <thead>\n",
       "    <tr style=\"text-align: right;\">\n",
       "      <th></th>\n",
       "      <th>Newspaper</th>\n",
       "      <th>daily</th>\n",
       "      <th>sunday</th>\n",
       "      <th>Y_hat</th>\n",
       "    </tr>\n",
       "  </thead>\n",
       "  <tbody>\n",
       "    <tr>\n",
       "      <th>0</th>\n",
       "      <td>Baltimore Sun</td>\n",
       "      <td>391.952</td>\n",
       "      <td>488.506</td>\n",
       "      <td>538.939509</td>\n",
       "    </tr>\n",
       "    <tr>\n",
       "      <th>1</th>\n",
       "      <td>Boston Globe</td>\n",
       "      <td>516.981</td>\n",
       "      <td>798.298</td>\n",
       "      <td>706.442705</td>\n",
       "    </tr>\n",
       "    <tr>\n",
       "      <th>2</th>\n",
       "      <td>Boston Herald</td>\n",
       "      <td>355.628</td>\n",
       "      <td>235.084</td>\n",
       "      <td>490.275710</td>\n",
       "    </tr>\n",
       "    <tr>\n",
       "      <th>3</th>\n",
       "      <td>Charlotte Observer</td>\n",
       "      <td>238.555</td>\n",
       "      <td>299.451</td>\n",
       "      <td>333.431284</td>\n",
       "    </tr>\n",
       "    <tr>\n",
       "      <th>4</th>\n",
       "      <td>Chicago Sun Times</td>\n",
       "      <td>537.780</td>\n",
       "      <td>559.093</td>\n",
       "      <td>734.307432</td>\n",
       "    </tr>\n",
       "    <tr>\n",
       "      <th>5</th>\n",
       "      <td>Chicago Tribune</td>\n",
       "      <td>733.775</td>\n",
       "      <td>1133.249</td>\n",
       "      <td>996.884826</td>\n",
       "    </tr>\n",
       "    <tr>\n",
       "      <th>6</th>\n",
       "      <td>Cincinnati Enquirer</td>\n",
       "      <td>198.832</td>\n",
       "      <td>348.744</td>\n",
       "      <td>280.213795</td>\n",
       "    </tr>\n",
       "    <tr>\n",
       "      <th>7</th>\n",
       "      <td>Denver Post</td>\n",
       "      <td>252.624</td>\n",
       "      <td>417.779</td>\n",
       "      <td>352.279731</td>\n",
       "    </tr>\n",
       "    <tr>\n",
       "      <th>8</th>\n",
       "      <td>Des Moines Register</td>\n",
       "      <td>206.204</td>\n",
       "      <td>344.522</td>\n",
       "      <td>290.090172</td>\n",
       "    </tr>\n",
       "    <tr>\n",
       "      <th>9</th>\n",
       "      <td>Hartford Courant</td>\n",
       "      <td>231.177</td>\n",
       "      <td>323.084</td>\n",
       "      <td>323.546868</td>\n",
       "    </tr>\n",
       "    <tr>\n",
       "      <th>10</th>\n",
       "      <td>Houston Chronicle</td>\n",
       "      <td>449.755</td>\n",
       "      <td>620.752</td>\n",
       "      <td>616.379041</td>\n",
       "    </tr>\n",
       "    <tr>\n",
       "      <th>11</th>\n",
       "      <td>Kansas City Star</td>\n",
       "      <td>288.571</td>\n",
       "      <td>423.305</td>\n",
       "      <td>400.438457</td>\n",
       "    </tr>\n",
       "    <tr>\n",
       "      <th>12</th>\n",
       "      <td>Los Angeles Daily  News</td>\n",
       "      <td>185.736</td>\n",
       "      <td>202.614</td>\n",
       "      <td>262.668890</td>\n",
       "    </tr>\n",
       "    <tr>\n",
       "      <th>13</th>\n",
       "      <td>Los Angeles Times</td>\n",
       "      <td>1164.388</td>\n",
       "      <td>1531.527</td>\n",
       "      <td>1573.783417</td>\n",
       "    </tr>\n",
       "    <tr>\n",
       "      <th>14</th>\n",
       "      <td>Miami Herald</td>\n",
       "      <td>444.581</td>\n",
       "      <td>553.479</td>\n",
       "      <td>609.447357</td>\n",
       "    </tr>\n",
       "    <tr>\n",
       "      <th>15</th>\n",
       "      <td>Minneapolis Star Tribune</td>\n",
       "      <td>412.871</td>\n",
       "      <td>685.975</td>\n",
       "      <td>566.965002</td>\n",
       "    </tr>\n",
       "    <tr>\n",
       "      <th>16</th>\n",
       "      <td>New Orleans Times-Picayune</td>\n",
       "      <td>272.280</td>\n",
       "      <td>324.241</td>\n",
       "      <td>378.613164</td>\n",
       "    </tr>\n",
       "    <tr>\n",
       "      <th>17</th>\n",
       "      <td>New York Daily News</td>\n",
       "      <td>781.796</td>\n",
       "      <td>983.240</td>\n",
       "      <td>1061.219269</td>\n",
       "    </tr>\n",
       "    <tr>\n",
       "      <th>18</th>\n",
       "      <td>New York Times</td>\n",
       "      <td>1209.225</td>\n",
       "      <td>1762.015</td>\n",
       "      <td>1633.852208</td>\n",
       "    </tr>\n",
       "    <tr>\n",
       "      <th>19</th>\n",
       "      <td>Newsday</td>\n",
       "      <td>825.512</td>\n",
       "      <td>960.308</td>\n",
       "      <td>1119.786239</td>\n",
       "    </tr>\n",
       "    <tr>\n",
       "      <th>20</th>\n",
       "      <td>Omaha World Herald</td>\n",
       "      <td>223.748</td>\n",
       "      <td>284.611</td>\n",
       "      <td>313.594128</td>\n",
       "    </tr>\n",
       "    <tr>\n",
       "      <th>21</th>\n",
       "      <td>Orange County Register</td>\n",
       "      <td>354.843</td>\n",
       "      <td>407.760</td>\n",
       "      <td>489.224034</td>\n",
       "    </tr>\n",
       "    <tr>\n",
       "      <th>22</th>\n",
       "      <td>Philadelphia Inquirer</td>\n",
       "      <td>515.523</td>\n",
       "      <td>982.663</td>\n",
       "      <td>704.489401</td>\n",
       "    </tr>\n",
       "    <tr>\n",
       "      <th>23</th>\n",
       "      <td>Pittsburgh Press</td>\n",
       "      <td>220.465</td>\n",
       "      <td>557.000</td>\n",
       "      <td>309.195844</td>\n",
       "    </tr>\n",
       "    <tr>\n",
       "      <th>24</th>\n",
       "      <td>Portland Oregonian</td>\n",
       "      <td>337.672</td>\n",
       "      <td>440.923</td>\n",
       "      <td>466.219792</td>\n",
       "    </tr>\n",
       "    <tr>\n",
       "      <th>25</th>\n",
       "      <td>Providence Journal-Bulletin</td>\n",
       "      <td>197.120</td>\n",
       "      <td>268.060</td>\n",
       "      <td>277.920203</td>\n",
       "    </tr>\n",
       "    <tr>\n",
       "      <th>26</th>\n",
       "      <td>Rochester Democrat &amp; Chronicle</td>\n",
       "      <td>133.239</td>\n",
       "      <td>262.048</td>\n",
       "      <td>192.337885</td>\n",
       "    </tr>\n",
       "    <tr>\n",
       "      <th>27</th>\n",
       "      <td>Rocky Mountain News</td>\n",
       "      <td>374.009</td>\n",
       "      <td>432.502</td>\n",
       "      <td>514.901007</td>\n",
       "    </tr>\n",
       "    <tr>\n",
       "      <th>28</th>\n",
       "      <td>Sacramento Bee</td>\n",
       "      <td>273.844</td>\n",
       "      <td>338.355</td>\n",
       "      <td>380.708478</td>\n",
       "    </tr>\n",
       "    <tr>\n",
       "      <th>29</th>\n",
       "      <td>San Francisco Chronicle</td>\n",
       "      <td>570.364</td>\n",
       "      <td>704.322</td>\n",
       "      <td>777.960698</td>\n",
       "    </tr>\n",
       "    <tr>\n",
       "      <th>30</th>\n",
       "      <td>St. Louis Post-Dispatch</td>\n",
       "      <td>391.286</td>\n",
       "      <td>585.681</td>\n",
       "      <td>538.047259</td>\n",
       "    </tr>\n",
       "    <tr>\n",
       "      <th>31</th>\n",
       "      <td>St. Paul Pioneer Press</td>\n",
       "      <td>201.860</td>\n",
       "      <td>267.781</td>\n",
       "      <td>284.270451</td>\n",
       "    </tr>\n",
       "    <tr>\n",
       "      <th>32</th>\n",
       "      <td>Tampa Tribune</td>\n",
       "      <td>321.626</td>\n",
       "      <td>408.343</td>\n",
       "      <td>444.722729</td>\n",
       "    </tr>\n",
       "    <tr>\n",
       "      <th>33</th>\n",
       "      <td>Washington Post</td>\n",
       "      <td>838.902</td>\n",
       "      <td>1165.567</td>\n",
       "      <td>1137.725020</td>\n",
       "    </tr>\n",
       "  </tbody>\n",
       "</table>\n",
       "</div>"
      ],
      "text/plain": [
       "                         Newspaper     daily    sunday        Y_hat\n",
       "0                    Baltimore Sun   391.952   488.506   538.939509\n",
       "1                     Boston Globe   516.981   798.298   706.442705\n",
       "2                    Boston Herald   355.628   235.084   490.275710\n",
       "3               Charlotte Observer   238.555   299.451   333.431284\n",
       "4                Chicago Sun Times   537.780   559.093   734.307432\n",
       "5                  Chicago Tribune   733.775  1133.249   996.884826\n",
       "6              Cincinnati Enquirer   198.832   348.744   280.213795\n",
       "7                      Denver Post   252.624   417.779   352.279731\n",
       "8              Des Moines Register   206.204   344.522   290.090172\n",
       "9                 Hartford Courant   231.177   323.084   323.546868\n",
       "10               Houston Chronicle   449.755   620.752   616.379041\n",
       "11                Kansas City Star   288.571   423.305   400.438457\n",
       "12         Los Angeles Daily  News   185.736   202.614   262.668890\n",
       "13               Los Angeles Times  1164.388  1531.527  1573.783417\n",
       "14                    Miami Herald   444.581   553.479   609.447357\n",
       "15        Minneapolis Star Tribune   412.871   685.975   566.965002\n",
       "16      New Orleans Times-Picayune   272.280   324.241   378.613164\n",
       "17             New York Daily News   781.796   983.240  1061.219269\n",
       "18                  New York Times  1209.225  1762.015  1633.852208\n",
       "19                         Newsday   825.512   960.308  1119.786239\n",
       "20              Omaha World Herald   223.748   284.611   313.594128\n",
       "21          Orange County Register   354.843   407.760   489.224034\n",
       "22           Philadelphia Inquirer   515.523   982.663   704.489401\n",
       "23                Pittsburgh Press   220.465   557.000   309.195844\n",
       "24              Portland Oregonian   337.672   440.923   466.219792\n",
       "25     Providence Journal-Bulletin   197.120   268.060   277.920203\n",
       "26  Rochester Democrat & Chronicle   133.239   262.048   192.337885\n",
       "27             Rocky Mountain News   374.009   432.502   514.901007\n",
       "28                  Sacramento Bee   273.844   338.355   380.708478\n",
       "29         San Francisco Chronicle   570.364   704.322   777.960698\n",
       "30         St. Louis Post-Dispatch   391.286   585.681   538.047259\n",
       "31          St. Paul Pioneer Press   201.860   267.781   284.270451\n",
       "32                   Tampa Tribune   321.626   408.343   444.722729\n",
       "33                 Washington Post   838.902  1165.567  1137.725020"
      ]
     },
     "execution_count": 301,
     "metadata": {},
     "output_type": "execute_result"
    }
   ],
   "source": [
    "#Add predcited values as a column in data1\n",
    "data1[\"Y_hat\"] = pred\n",
    "data1"
   ]
  },
  {
   "cell_type": "code",
   "execution_count": 313,
   "id": "bbbf9bcc-843c-47ed-a1bc-c21d618f27b6",
   "metadata": {},
   "outputs": [
    {
     "data": {
      "text/html": [
       "<div>\n",
       "<style scoped>\n",
       "    .dataframe tbody tr th:only-of-type {\n",
       "        vertical-align: middle;\n",
       "    }\n",
       "\n",
       "    .dataframe tbody tr th {\n",
       "        vertical-align: top;\n",
       "    }\n",
       "\n",
       "    .dataframe thead th {\n",
       "        text-align: right;\n",
       "    }\n",
       "</style>\n",
       "<table border=\"1\" class=\"dataframe\">\n",
       "  <thead>\n",
       "    <tr style=\"text-align: right;\">\n",
       "      <th></th>\n",
       "      <th>Newspaper</th>\n",
       "      <th>daily</th>\n",
       "      <th>sunday</th>\n",
       "      <th>Y_hat</th>\n",
       "      <th>residuals</th>\n",
       "    </tr>\n",
       "  </thead>\n",
       "  <tbody>\n",
       "    <tr>\n",
       "      <th>0</th>\n",
       "      <td>Baltimore Sun</td>\n",
       "      <td>391.952</td>\n",
       "      <td>488.506</td>\n",
       "      <td>538.939509</td>\n",
       "      <td>-50.433509</td>\n",
       "    </tr>\n",
       "    <tr>\n",
       "      <th>1</th>\n",
       "      <td>Boston Globe</td>\n",
       "      <td>516.981</td>\n",
       "      <td>798.298</td>\n",
       "      <td>706.442705</td>\n",
       "      <td>91.855295</td>\n",
       "    </tr>\n",
       "    <tr>\n",
       "      <th>2</th>\n",
       "      <td>Boston Herald</td>\n",
       "      <td>355.628</td>\n",
       "      <td>235.084</td>\n",
       "      <td>490.275710</td>\n",
       "      <td>-255.191710</td>\n",
       "    </tr>\n",
       "    <tr>\n",
       "      <th>3</th>\n",
       "      <td>Charlotte Observer</td>\n",
       "      <td>238.555</td>\n",
       "      <td>299.451</td>\n",
       "      <td>333.431284</td>\n",
       "      <td>-33.980284</td>\n",
       "    </tr>\n",
       "    <tr>\n",
       "      <th>4</th>\n",
       "      <td>Chicago Sun Times</td>\n",
       "      <td>537.780</td>\n",
       "      <td>559.093</td>\n",
       "      <td>734.307432</td>\n",
       "      <td>-175.214432</td>\n",
       "    </tr>\n",
       "    <tr>\n",
       "      <th>5</th>\n",
       "      <td>Chicago Tribune</td>\n",
       "      <td>733.775</td>\n",
       "      <td>1133.249</td>\n",
       "      <td>996.884826</td>\n",
       "      <td>136.364174</td>\n",
       "    </tr>\n",
       "    <tr>\n",
       "      <th>6</th>\n",
       "      <td>Cincinnati Enquirer</td>\n",
       "      <td>198.832</td>\n",
       "      <td>348.744</td>\n",
       "      <td>280.213795</td>\n",
       "      <td>68.530205</td>\n",
       "    </tr>\n",
       "    <tr>\n",
       "      <th>7</th>\n",
       "      <td>Denver Post</td>\n",
       "      <td>252.624</td>\n",
       "      <td>417.779</td>\n",
       "      <td>352.279731</td>\n",
       "      <td>65.499269</td>\n",
       "    </tr>\n",
       "    <tr>\n",
       "      <th>8</th>\n",
       "      <td>Des Moines Register</td>\n",
       "      <td>206.204</td>\n",
       "      <td>344.522</td>\n",
       "      <td>290.090172</td>\n",
       "      <td>54.431828</td>\n",
       "    </tr>\n",
       "    <tr>\n",
       "      <th>9</th>\n",
       "      <td>Hartford Courant</td>\n",
       "      <td>231.177</td>\n",
       "      <td>323.084</td>\n",
       "      <td>323.546868</td>\n",
       "      <td>-0.462868</td>\n",
       "    </tr>\n",
       "    <tr>\n",
       "      <th>10</th>\n",
       "      <td>Houston Chronicle</td>\n",
       "      <td>449.755</td>\n",
       "      <td>620.752</td>\n",
       "      <td>616.379041</td>\n",
       "      <td>4.372959</td>\n",
       "    </tr>\n",
       "    <tr>\n",
       "      <th>11</th>\n",
       "      <td>Kansas City Star</td>\n",
       "      <td>288.571</td>\n",
       "      <td>423.305</td>\n",
       "      <td>400.438457</td>\n",
       "      <td>22.866543</td>\n",
       "    </tr>\n",
       "    <tr>\n",
       "      <th>12</th>\n",
       "      <td>Los Angeles Daily  News</td>\n",
       "      <td>185.736</td>\n",
       "      <td>202.614</td>\n",
       "      <td>262.668890</td>\n",
       "      <td>-60.054890</td>\n",
       "    </tr>\n",
       "    <tr>\n",
       "      <th>13</th>\n",
       "      <td>Los Angeles Times</td>\n",
       "      <td>1164.388</td>\n",
       "      <td>1531.527</td>\n",
       "      <td>1573.783417</td>\n",
       "      <td>-42.256417</td>\n",
       "    </tr>\n",
       "    <tr>\n",
       "      <th>14</th>\n",
       "      <td>Miami Herald</td>\n",
       "      <td>444.581</td>\n",
       "      <td>553.479</td>\n",
       "      <td>609.447357</td>\n",
       "      <td>-55.968357</td>\n",
       "    </tr>\n",
       "    <tr>\n",
       "      <th>15</th>\n",
       "      <td>Minneapolis Star Tribune</td>\n",
       "      <td>412.871</td>\n",
       "      <td>685.975</td>\n",
       "      <td>566.965002</td>\n",
       "      <td>119.009998</td>\n",
       "    </tr>\n",
       "    <tr>\n",
       "      <th>16</th>\n",
       "      <td>New Orleans Times-Picayune</td>\n",
       "      <td>272.280</td>\n",
       "      <td>324.241</td>\n",
       "      <td>378.613164</td>\n",
       "      <td>-54.372164</td>\n",
       "    </tr>\n",
       "    <tr>\n",
       "      <th>17</th>\n",
       "      <td>New York Daily News</td>\n",
       "      <td>781.796</td>\n",
       "      <td>983.240</td>\n",
       "      <td>1061.219269</td>\n",
       "      <td>-77.979269</td>\n",
       "    </tr>\n",
       "    <tr>\n",
       "      <th>18</th>\n",
       "      <td>New York Times</td>\n",
       "      <td>1209.225</td>\n",
       "      <td>1762.015</td>\n",
       "      <td>1633.852208</td>\n",
       "      <td>128.162792</td>\n",
       "    </tr>\n",
       "    <tr>\n",
       "      <th>19</th>\n",
       "      <td>Newsday</td>\n",
       "      <td>825.512</td>\n",
       "      <td>960.308</td>\n",
       "      <td>1119.786239</td>\n",
       "      <td>-159.478239</td>\n",
       "    </tr>\n",
       "    <tr>\n",
       "      <th>20</th>\n",
       "      <td>Omaha World Herald</td>\n",
       "      <td>223.748</td>\n",
       "      <td>284.611</td>\n",
       "      <td>313.594128</td>\n",
       "      <td>-28.983128</td>\n",
       "    </tr>\n",
       "    <tr>\n",
       "      <th>21</th>\n",
       "      <td>Orange County Register</td>\n",
       "      <td>354.843</td>\n",
       "      <td>407.760</td>\n",
       "      <td>489.224034</td>\n",
       "      <td>-81.464034</td>\n",
       "    </tr>\n",
       "    <tr>\n",
       "      <th>22</th>\n",
       "      <td>Philadelphia Inquirer</td>\n",
       "      <td>515.523</td>\n",
       "      <td>982.663</td>\n",
       "      <td>704.489401</td>\n",
       "      <td>278.173599</td>\n",
       "    </tr>\n",
       "    <tr>\n",
       "      <th>23</th>\n",
       "      <td>Pittsburgh Press</td>\n",
       "      <td>220.465</td>\n",
       "      <td>557.000</td>\n",
       "      <td>309.195844</td>\n",
       "      <td>247.804156</td>\n",
       "    </tr>\n",
       "    <tr>\n",
       "      <th>24</th>\n",
       "      <td>Portland Oregonian</td>\n",
       "      <td>337.672</td>\n",
       "      <td>440.923</td>\n",
       "      <td>466.219792</td>\n",
       "      <td>-25.296792</td>\n",
       "    </tr>\n",
       "    <tr>\n",
       "      <th>25</th>\n",
       "      <td>Providence Journal-Bulletin</td>\n",
       "      <td>197.120</td>\n",
       "      <td>268.060</td>\n",
       "      <td>277.920203</td>\n",
       "      <td>-9.860203</td>\n",
       "    </tr>\n",
       "    <tr>\n",
       "      <th>26</th>\n",
       "      <td>Rochester Democrat &amp; Chronicle</td>\n",
       "      <td>133.239</td>\n",
       "      <td>262.048</td>\n",
       "      <td>192.337885</td>\n",
       "      <td>69.710115</td>\n",
       "    </tr>\n",
       "    <tr>\n",
       "      <th>27</th>\n",
       "      <td>Rocky Mountain News</td>\n",
       "      <td>374.009</td>\n",
       "      <td>432.502</td>\n",
       "      <td>514.901007</td>\n",
       "      <td>-82.399007</td>\n",
       "    </tr>\n",
       "    <tr>\n",
       "      <th>28</th>\n",
       "      <td>Sacramento Bee</td>\n",
       "      <td>273.844</td>\n",
       "      <td>338.355</td>\n",
       "      <td>380.708478</td>\n",
       "      <td>-42.353478</td>\n",
       "    </tr>\n",
       "    <tr>\n",
       "      <th>29</th>\n",
       "      <td>San Francisco Chronicle</td>\n",
       "      <td>570.364</td>\n",
       "      <td>704.322</td>\n",
       "      <td>777.960698</td>\n",
       "      <td>-73.638698</td>\n",
       "    </tr>\n",
       "    <tr>\n",
       "      <th>30</th>\n",
       "      <td>St. Louis Post-Dispatch</td>\n",
       "      <td>391.286</td>\n",
       "      <td>585.681</td>\n",
       "      <td>538.047259</td>\n",
       "      <td>47.633741</td>\n",
       "    </tr>\n",
       "    <tr>\n",
       "      <th>31</th>\n",
       "      <td>St. Paul Pioneer Press</td>\n",
       "      <td>201.860</td>\n",
       "      <td>267.781</td>\n",
       "      <td>284.270451</td>\n",
       "      <td>-16.489451</td>\n",
       "    </tr>\n",
       "    <tr>\n",
       "      <th>32</th>\n",
       "      <td>Tampa Tribune</td>\n",
       "      <td>321.626</td>\n",
       "      <td>408.343</td>\n",
       "      <td>444.722729</td>\n",
       "      <td>-36.379729</td>\n",
       "    </tr>\n",
       "    <tr>\n",
       "      <th>33</th>\n",
       "      <td>Washington Post</td>\n",
       "      <td>838.902</td>\n",
       "      <td>1165.567</td>\n",
       "      <td>1137.725020</td>\n",
       "      <td>27.841980</td>\n",
       "    </tr>\n",
       "  </tbody>\n",
       "</table>\n",
       "</div>"
      ],
      "text/plain": [
       "                         Newspaper     daily    sunday        Y_hat  \\\n",
       "0                    Baltimore Sun   391.952   488.506   538.939509   \n",
       "1                     Boston Globe   516.981   798.298   706.442705   \n",
       "2                    Boston Herald   355.628   235.084   490.275710   \n",
       "3               Charlotte Observer   238.555   299.451   333.431284   \n",
       "4                Chicago Sun Times   537.780   559.093   734.307432   \n",
       "5                  Chicago Tribune   733.775  1133.249   996.884826   \n",
       "6              Cincinnati Enquirer   198.832   348.744   280.213795   \n",
       "7                      Denver Post   252.624   417.779   352.279731   \n",
       "8              Des Moines Register   206.204   344.522   290.090172   \n",
       "9                 Hartford Courant   231.177   323.084   323.546868   \n",
       "10               Houston Chronicle   449.755   620.752   616.379041   \n",
       "11                Kansas City Star   288.571   423.305   400.438457   \n",
       "12         Los Angeles Daily  News   185.736   202.614   262.668890   \n",
       "13               Los Angeles Times  1164.388  1531.527  1573.783417   \n",
       "14                    Miami Herald   444.581   553.479   609.447357   \n",
       "15        Minneapolis Star Tribune   412.871   685.975   566.965002   \n",
       "16      New Orleans Times-Picayune   272.280   324.241   378.613164   \n",
       "17             New York Daily News   781.796   983.240  1061.219269   \n",
       "18                  New York Times  1209.225  1762.015  1633.852208   \n",
       "19                         Newsday   825.512   960.308  1119.786239   \n",
       "20              Omaha World Herald   223.748   284.611   313.594128   \n",
       "21          Orange County Register   354.843   407.760   489.224034   \n",
       "22           Philadelphia Inquirer   515.523   982.663   704.489401   \n",
       "23                Pittsburgh Press   220.465   557.000   309.195844   \n",
       "24              Portland Oregonian   337.672   440.923   466.219792   \n",
       "25     Providence Journal-Bulletin   197.120   268.060   277.920203   \n",
       "26  Rochester Democrat & Chronicle   133.239   262.048   192.337885   \n",
       "27             Rocky Mountain News   374.009   432.502   514.901007   \n",
       "28                  Sacramento Bee   273.844   338.355   380.708478   \n",
       "29         San Francisco Chronicle   570.364   704.322   777.960698   \n",
       "30         St. Louis Post-Dispatch   391.286   585.681   538.047259   \n",
       "31          St. Paul Pioneer Press   201.860   267.781   284.270451   \n",
       "32                   Tampa Tribune   321.626   408.343   444.722729   \n",
       "33                 Washington Post   838.902  1165.567  1137.725020   \n",
       "\n",
       "     residuals  \n",
       "0   -50.433509  \n",
       "1    91.855295  \n",
       "2  -255.191710  \n",
       "3   -33.980284  \n",
       "4  -175.214432  \n",
       "5   136.364174  \n",
       "6    68.530205  \n",
       "7    65.499269  \n",
       "8    54.431828  \n",
       "9    -0.462868  \n",
       "10    4.372959  \n",
       "11   22.866543  \n",
       "12  -60.054890  \n",
       "13  -42.256417  \n",
       "14  -55.968357  \n",
       "15  119.009998  \n",
       "16  -54.372164  \n",
       "17  -77.979269  \n",
       "18  128.162792  \n",
       "19 -159.478239  \n",
       "20  -28.983128  \n",
       "21  -81.464034  \n",
       "22  278.173599  \n",
       "23  247.804156  \n",
       "24  -25.296792  \n",
       "25   -9.860203  \n",
       "26   69.710115  \n",
       "27  -82.399007  \n",
       "28  -42.353478  \n",
       "29  -73.638698  \n",
       "30   47.633741  \n",
       "31  -16.489451  \n",
       "32  -36.379729  \n",
       "33   27.841980  "
      ]
     },
     "execution_count": 313,
     "metadata": {},
     "output_type": "execute_result"
    }
   ],
   "source": [
    "#Compute the error values(residuals) and add as another column\n",
    "data1[\"residuals\"] = data1[\"sunday\"]-data1[\"Y_hat\"]\n",
    "data1"
   ]
  },
  {
   "cell_type": "code",
   "execution_count": 317,
   "id": "c602beb9-8827-4bc7-b144-c2615a87bcc9",
   "metadata": {},
   "outputs": [
    {
     "name": "stdout",
     "output_type": "stream",
     "text": [
      "MSE:  33794.87469205266\n",
      "RMSE:  183.83382358002746\n"
     ]
    }
   ],
   "source": [
    "mse = np.mean((data1[\"daily\"]-data1[\"Y_hat\"])**2)\n",
    "rmse = np.sqrt(mse)\n",
    "print(\"MSE: \",mse)\n",
    "print(\"RMSE: \",rmse)"
   ]
  },
  {
   "cell_type": "code",
   "execution_count": 330,
   "id": "867e28a3-2561-41b4-aa73-8804918c9533",
   "metadata": {},
   "outputs": [
    {
     "data": {
      "text/plain": [
       "<matplotlib.collections.PathCollection at 0x19d123e01a0>"
      ]
     },
     "execution_count": 330,
     "metadata": {},
     "output_type": "execute_result"
    },
    {
     "data": {
      "image/png": "[encoded data removed]",
      "text/plain": [
       "<Figure size 640x480 with 1 Axes>"
      ]
     },
     "metadata": {},
     "output_type": "display_data"
    }
   ],
   "source": [
    "#plot the residuals versus y_hat (to check whether residuals are independent of each\n",
    "plt.scatter(data1[\"Y_hat\"],data1[\"residuals\"])"
   ]
  },
  {
   "cell_type": "markdown",
   "id": "189c4696-4a82-4bff-907c-2c8ae28a93c2",
   "metadata": {},
   "source": [
    "Observation:\n",
    "* There appears to be trend and the residuals are randomly places around the zero error line\n",
    "* Hence the assumptions of homoscedascity is satisfied(constant variance in residuals)"
   ]
  },
  {
   "cell_type": "code",
   "execution_count": 328,
   "id": "c296eeed-418f-442a-b5b0-c58520852b5f",
   "metadata": {},
   "outputs": [
    {
     "data": {
      "image/png": "[encoded data removed]",
      "text/plain": [
       "<Figure size 640x480 with 1 Axes>"
      ]
     },
     "metadata": {},
     "output_type": "display_data"
    }
   ],
   "source": [
    "# plot the Q-Q plot(to check the normality of residuals)\n",
    "import statsmodels.api as sm\n",
    "sm.qqplot(data1[\"residuals\"],line='45',fit=True)\n",
    "plt.show()"
   ]
  },
  {
   "cell_type": "code",
   "execution_count": 332,
   "id": "2f2abb52-7615-4a52-a5cd-c21eee17ac6c",
   "metadata": {},
   "outputs": [
    {
     "data": {
      "text/plain": [
       "<Axes: xlabel='residuals', ylabel='Count'>"
      ]
     },
     "execution_count": 332,
     "metadata": {},
     "output_type": "execute_result"
    },
    {
     "data": {
      "image/png": "[encoded data removed]",
      "text/plain": [
       "<Figure size 640x480 with 1 Axes>"
      ]
     },
     "metadata": {},
     "output_type": "display_data"
    }
   ],
   "source": [
    "#plot the kde distribution for distribution\n",
    "sns.histplot(data1[\"residuals\"],kde = True)"
   ]
  },
  {
   "cell_type": "markdown",
   "id": "573620b0-367b-4472-886f-8bb4bd0f5ed0",
   "metadata": {},
   "source": [
    "Observations:\n",
    "* The data points sre seen to closely follow the reference line of normality\n",
    "* Hence the residuals are approximately normally distributed"
   ]
  }
 ],
 "metadata": {
  "kernelspec": {
   "display_name": "Python [conda env:base] *",
   "language": "python",
   "name": "conda-base-py"
  },
  "language_info": {
   "codemirror_mode": {
    "name": "ipython",
    "version": 3
   },
   "file_extension": ".py",
   "mimetype": "text/x-python",
   "name": "python",
   "nbconvert_exporter": "python",
   "pygments_lexer": "ipython3",
   "version": "3.12.7"
  }
 },
 "nbformat": 4,
 "nbformat_minor": 5
}
